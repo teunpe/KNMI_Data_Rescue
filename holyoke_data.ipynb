{
 "cells": [
  {
   "cell_type": "code",
   "execution_count": 25,
   "id": "5d9b8f8d",
   "metadata": {},
   "outputs": [],
   "source": [
    "import duckdb\n",
    "import pandas as pd\n",
    "from datetime import datetime\n",
    "import time\n",
    "start_time = time.time()"
   ]
  },
  {
   "cell_type": "code",
   "execution_count": null,
   "id": "cf8a74ef",
   "metadata": {},
   "outputs": [
    {
     "name": "stdout",
     "output_type": "stream",
     "text": [
      "1786\n",
      " ['January', 'February', 'March'] ['1', '1021.8', '1015.6', '1027.3', '1029.0', '1007.8', '1008.8']\n",
      "1786\n",
      " ['April', 'May', 'June'] ['1', '1020.1', '1014.7', '997.8', '998.1', '1016.5', '1015.0']\n",
      "1786\n",
      " ['July', 'August', 'September'] ['1', '1017.3', '1013.2', '1016.4', '1014.6', '1012.6', '1015.4']\n",
      "1786\n",
      " ['October', 'November', 'December'] ['1', '1013.5', '1010.5', '1011.1', '1016.7', '1007.5', '1006.5']\n",
      "1787\n",
      " ['January', 'February', 'March'] ['1', '1015.2', '1015.6', '1028.7', '1025.5', '995.4', '999.7']\n",
      "1787\n",
      " ['April', 'May', 'June'] ['1', '1019.4', '1008.9', '996.2', '1004.0', '995.9', '997.6']\n",
      "1787\n",
      " ['July', 'August', 'September'] ['1', '1011.6', '1009.8', '1014.9', '1012.5', '1015.9', '1008.5']\n",
      "1787\n",
      " ['October', 'November', 'December'] ['1', '1026.9', '1021.8', '1008.2', '1016.8', '1001.4', '998.4']\n",
      "1788\n",
      " ['January', 'February', 'March'] ['1', '1017.3', '1008.3', '1019.1', '1021.5', '1005.9', '1003.7']\n",
      "1788\n",
      " ['April', 'May', 'June'] ['1', '1010.1', '1008.9', '1012.9', '1007.7', '1002.1', '1003.9']\n",
      "1788\n",
      " ['July', 'August', 'September'] ['1', '1008.7', '1009.5', '1017.5', '1012.6', '1016.6', '1003.5']\n",
      "1788\n",
      " ['October', 'November', 'December'] ['1', '1023.0', '1022.0', '1030.1', '1020.5', '1002.5', '988.7']\n",
      "1789\n",
      " ['January', 'February', 'March'] ['1', '1023.7', '1031.5', '1022.2', '1032.2', '1005.9', '1015.4']\n",
      "1789\n",
      " ['April', 'May', 'June'] ['1', '1006.0', '1002.8', '1009.4', '1007.7', '1010.8', '1010.7']\n",
      "1789\n",
      " ['July', 'August', 'September'] ['1', '1008.0', '1010.8', '1007.1', '1008.4', '1012.6', '1007.3']\n",
      "1789\n",
      " ['October', 'November', 'December'] ['1', '1009.4', '1010.3', '1015.2', '1019.2', '983.1', '991.1']\n",
      "1790\n",
      " ['January', 'February', 'March'] ['1', '1000.9', '1008.5', '1020.6', '1006.2', '1022.7', '1013.9']\n",
      "1790\n",
      " ['April', 'May', 'June'] ['1', '1025.1', '1017.3', '1019.4', '1013.5', '1005.7', '9999.9']\n",
      "1790\n",
      " ['July', 'August', 'September'] ['1', '1006.4', '1005.5', '1012.0', '1015.5', '1016.0', '1009.4']\n",
      "1790\n",
      " ['October', 'November', 'December'] ['1', '1015.9', '1017.4', '1019.2', '1005.8', '1025.7', '9999.9']\n",
      "1791\n",
      " ['January', 'February', 'March'] ['1', '1009.0', '1014.9', '1019.8', '1016.7', '1009.7', '987.2']\n",
      "1791\n",
      " ['April', 'May', 'June'] ['1', '1007.6', '1010.4', '1004.7', '1010.9', '1022.3', '1020.2']\n",
      "1791\n",
      " ['July', 'August', 'September'] ['1', '1004.6', '9999.9', '1007.4', '1003.8', '1008.8', '1008.4']\n",
      "1791\n",
      " ['October', 'November', 'December'] ['1', '1011.0', '1004.5', '1005.3', '9999.9', '1017.2', '1003.2']\n",
      "1792\n",
      " ['January', 'February', 'March'] ['1', '1025.4', '1017.0', '997.5', '1002.5', '1019.4', '1013.2']\n",
      "1792\n",
      " ['April', 'May', 'June'] ['1', '1017.1', '1015.7', '1016.1', '1014.0', '1018.1', '1018.8']\n",
      "1792\n",
      " ['July', 'August', 'September'] ['1', '1004.8', '1002.2', '997.7', '1003.9', '1015.5', '1011.7']\n",
      "1792\n",
      " ['October', 'November', 'December'] ['1', '1001.8', '1006.5', '1013.3', '1004.7', '1005.7', '1004.7']\n",
      "1793\n",
      " ['January', 'February', 'March'] ['1', '1017.3', '1029.0', '1034.7', '1026.9', '1036.1', '1031.6']\n",
      "1793\n",
      " ['April', 'May', 'June'] ['1', '1019.2', '1023.7', '1026.1', '1022.9', '1002.6', '1005.1']\n",
      "1793\n",
      " ['July', 'August', 'September'] ['1', '1006.6', '1001.6', '1010.2', '1012.2', '1007.4', '1000.7']\n",
      "1793\n",
      " ['October', 'November', 'December'] ['1', '1012.0', '1005.3', '1022.3', '1023.3', '1007.3', '1007.7']\n",
      "1794\n",
      " ['January', 'February', 'March'] ['1', '1004.4', '9999.9', '1009.2', '1015.3', '1008.8', '1014.5']\n",
      "1794\n",
      " ['April', 'May', 'June'] ['1', '993.6', '9999.9', '1019.3', '1013.0', '1008.1', '1004.7']\n",
      "1794\n",
      " ['July', 'August', 'September'] ['1', '1011.4', '1015.6', '1011.3', '1003.6', '1017.5', '1010.2']\n",
      "1794\n",
      " ['October', 'November', 'December'] ['1', '1031.1', '1026.6', '1011.7', '1014.0', '1010.1', '987.2']\n",
      "1795\n",
      " ['January', 'February', 'March'] ['1', '1007.3', '1008.4', '1003.1', '1012.0', '1007.7', '1011.7']\n",
      "1795\n",
      " ['April', 'May', 'June'] ['1', '1012.9', '1010.3', '1017.2', '1019.8', '1004.9', '1003.9']\n",
      "1795\n",
      " ['July', 'August', 'September'] ['1', '1010.1', '1011.4', '1017.7', '1016.5', '1004.8', '1006.5']\n",
      "1795\n",
      " ['October', 'November', 'December'] ['1', '1025.8', '1028.2', '994.6', '1000.1', '1005.4', '997.6']\n",
      "1796\n",
      " ['January', 'February', 'March'] ['1', '1008.4', '1025.5', '1023.1', '1013.4', '1014.6', '1017.6']\n",
      "1796\n",
      " ['April', 'May', 'June'] ['1', '1002.7', '1001.1', '1002.8', '1005.5', '1008.8', '1008.3']\n",
      "1796\n",
      " ['July', 'August', 'September'] ['1', '1002.4', '1005.5', '1003.8', '1004.0', '1018.1', '1017.2']\n",
      "1796\n",
      " ['October', 'November', 'December'] ['1', '1020.2', '1019.6', '1008.4', '1009.1', '1001.2', '994.9']\n",
      "1797\n",
      " ['January', 'February', 'March'] ['1', '1007.6', '1012.1', '1023.2', '1017.7', '1015.9', '9999.9']\n",
      "1797\n",
      " ['April', 'May', 'June'] ['1', '999.2', '1003.1', '1005.5', '1010.0', '1012.0', '1011.6']\n",
      "1797\n",
      " ['July', 'August', 'September'] ['1', '1010.1', '1006.1', '1013.2', '1012.7', '1012.8', '1004.6']\n",
      "1797\n",
      " ['October', 'November', 'December'] ['1', '1021.7', '1011.6', '1014.4', '1017.6', '1010.0', '1014.3']\n",
      "1798\n",
      " ['January', 'February', 'March'] ['1', '1018.8', '1000.6', '1004.8', '1007.7', '1019.8', '9999.9']\n",
      "1798\n",
      " ['April', 'May', 'June'] ['1', '1010.0', '1010.8', '1010.2', '1009.6', '1007.1', '1002.8']\n",
      "1798\n",
      " ['July', 'August', 'September'] ['1', '1008.5', '1004.1', '1012.5', '1014.8', '1015.5', '1018.2']\n",
      "1798\n",
      " ['October', 'November', 'December'] ['1', '1018.4', '9999.9', '1009.6', '1005.9', '1005.6', '1013.6']\n",
      "1799\n",
      " ['January', 'February', 'March'] ['1', '1021.6', '1015.0', '1002.3', '998.0', '1021.2', '1022.4']\n",
      "1799\n",
      " ['April', 'May', 'June'] ['1', '1000.4', '1006.8', '1011.8', '999.9', '998.6', '994.3']\n",
      "1799\n",
      " ['July', 'August', 'September'] ['1', '1010.6', '1003.8', '1004.7', '1003.5', '1017.1', '1007.6']\n",
      "1799\n",
      " ['October', 'November', 'December'] ['1', '1010.2', '1011.8', '1011.4', '1013.2', '1011.9', '1010.0']\n",
      "1800\n",
      " ['January', 'February', 'March'] ['1', '1008.9', '1012.9', '1009.1', '1002.9', '989.4', '994.0']\n",
      "1800\n",
      " ['April', 'May', 'June'] ['1', '1004.5', '1013.1', '1011.1', '1008.1', '1012.5', '1011.9']\n",
      "1800\n",
      " ['July', 'August', 'September'] ['1', '1015.0', '1018.5', '1012.7', '1014.2', '9999.9', '1000.9']\n",
      "1800\n",
      " ['October', 'November', 'December'] ['1', '1008.8', '1008.8', '1019.3', '1015.3', '1015.0', '1021.5']\n",
      "1801\n",
      " ['January', 'February', 'March'] ['1', '1021.1', '1015.7', '1012.6', '1015.2', '1024.4', '1019.7']\n",
      "1801\n",
      " ['April', 'May', 'June'] ['1', '1003.8', '1006.8', '1011.4', '1004.9', '1007.3', '1006.0']\n",
      "1801\n",
      " ['July', 'August', 'September'] ['1', '1013.1', '1006.1', '1007.5', '1004.0', '1007.9', '1007.4']\n",
      "1801\n",
      " ['October', 'November', 'December'] ['1', '1022.8', '1021.8', '1015.3', '1008.9', '1018.9', '1016.9']\n",
      "1802\n",
      " ['January', 'February', 'March'] ['1', '1023.9', '1024.0', '1033.0', '1017.4', '1027.8', '1025.6']\n",
      "1802\n",
      " ['April', 'May', 'June'] ['1', '1015.5', '1006.9', '1014.9', '1022.1', '1005.3', '1016.9']\n",
      "1802\n",
      " ['July', 'August', 'September'] ['1', '1013.6', '1010.8', '1008.6', '1009.5', '1009.8', '1006.5']\n",
      "1802\n",
      " ['October', 'November', 'December'] ['1', '1025.3', '1024.7', '985.2', '999.8', '1002.8', '995.7']\n",
      "1803\n",
      " ['January', 'February', 'March'] ['1', '1022.2', '1015.4', '1016.9', '1016.3', '1006.8', '998.7']\n",
      "1803\n",
      " ['April', 'May', 'June'] ['1', '995.7', '1023.4', '1009.0', '9999.9', '1000.7', '1000.6']\n",
      "1803\n",
      " ['July', 'August', 'September'] ['1', '1004.0', '1000.2', '1004.8', '1003.7', '1016.6', '1011.7']\n",
      "1803\n",
      " ['October', 'November', 'December'] ['1', '1024.3', '1019.0', '1011.9', '1012.5', '996.5', '988.8']\n",
      "1804\n",
      " ['January', 'February', 'March'] ['1', '1011.4', '996.1', '1011.4', '1010.9', '1016.1', '1007.0']\n",
      "1804\n",
      " ['April', 'May', 'June'] ['1', '1010.3', '1010.8', '9999.9', '1013.0', '1008.2', '1013.6']\n",
      "1804\n",
      " ['July', 'August', 'September'] ['1', '1009.0', '1005.5', '1011.0', '1012.9', '1012.6', '1011.6']\n",
      "1804\n",
      " ['October', 'November', 'December'] ['1', '1017.6', '1021.4', '1023.0', '1020.7', '1004.5', '1004.0']\n",
      "1805\n",
      " ['January', 'February', 'March'] ['1', '1009.0', '1002.6', '999.6', '989.7', '1019.3', '1012.9']\n",
      "1805\n",
      " ['April', 'May', 'June'] ['1', '1011.1', '9999.9', '1014.6', '1010.3', '1008.5', '1009.3']\n",
      "1805\n",
      " ['July', 'August', 'September'] ['1', '1010.3', '1014.2', '1008.9', '1008.3', '1021.6', '1020.9']\n",
      "1805\n",
      " ['October', 'November', 'December'] ['1', '1017.4', '1015.2', '1015.2', '9999.9', '1001.4', '1011.8']\n",
      "1806\n",
      " ['January', 'February', 'March'] ['1', '1002.7', '1004.6', '1015.4', '1006.6', '1007.4', '1013.9']\n",
      "1806\n",
      " ['April', 'May', 'June'] ['1', '997.6', '1005.1', '999.5', '1000.4', '1001.0', '1001.3']\n",
      "1806\n",
      " ['July', 'August', 'September'] ['1', '1004.0', '1003.9', '1019.1', '1015.7', '1012.4', '1009.5']\n",
      "1806\n",
      " ['October', 'November', 'December'] ['1', '1006.6', '1006.9', '1011.4', '1014.1', '1016.4', '1017.7']\n",
      "1807\n",
      " ['January', 'February', 'March'] ['1', '1034.8', '1027.0', '989.9', '1010.4', '990.3', '997.8']\n",
      "1807\n",
      " ['April', 'May', 'June'] ['1', '985.5', '1000.4', '1001.5', '999.3', '1018.5', '1010.5']\n",
      "1807\n",
      " ['July', 'August', 'September'] ['1', '1004.5', '1009.0', '1011.7', '1011.9', '1006.8', '1007.9']\n",
      "1807\n",
      " ['October', 'November', 'December'] ['1', '1014.9', '1014.9', '1000.7', '1004.6', '1018.4', '1015.7']\n",
      "1808\n",
      " ['January', 'February', 'March'] ['1', '1011.0', '1011.5', '1002.0', '997.2', '1007.1', '1019.0']\n",
      "1808\n",
      " ['April', 'May', 'June'] ['1', '1007.7', '1004.7', '1019.9', '1015.9', '999.8', '999.8']\n",
      "1808\n",
      " ['July', 'August', 'September'] ['1', '999.8', '998.6', '1009.2', '1010.7', '1019.4', '1014.7']\n",
      "1808\n",
      " ['October', 'November', 'December'] ['1', '1021.4', '1014.2', '1026.4', '1014.2', '1014.9', '1021.3']\n",
      "1809\n",
      " ['January', 'February', 'March'] ['1', '1010.3', '992.9', '1012.5', '1012.1', '999.3', '981.5']\n",
      "1809\n",
      " ['April', 'May', 'June'] ['1', '1008.3', '1005.4', '1002.9', '1004.7', '9999.9', '1006.0']\n",
      "1809\n",
      " ['July', 'August', 'September'] ['1', '1012.4', '1004.3', '1016.5', '1014.2', '1009.6', '1011.5']\n",
      "1809\n",
      " ['October', 'November', 'December'] ['1', '1013.3', '1015.3', '1030.7', '1031.5', '1017.6', '1005.6']\n",
      "1810\n",
      " ['January', 'February', 'March'] ['1', '1015.8', '1021.3', '1014.6', '1013.1', '1008.8', '1001.6']\n",
      "1810\n",
      " ['April', 'May', 'June'] ['1', '1020.1', '1000.9', '1000.8', '1005.6', '1006.8', '1010.9']\n",
      "1810\n",
      " ['July', 'August', 'September'] ['1', '1006.1', '1010.8', '1007.5', '1004.7', '1015.2', '1012.7']\n",
      "1810\n",
      " ['October', 'November', 'December'] ['1', '1011.7', '1007.9', '1020.1', '1019.2', '1018.0', '1018.7']\n",
      "1811\n",
      " ['January', 'February', 'March'] ['1', '1022.2', '1020.3', '1013.5', '1015.9', '994.9', '1000.8']\n",
      "1811\n",
      " ['April', 'May', 'June'] ['1', '1006.9', '1018.0', '9999.9', '9999.9', '1002.6', '998.5']\n",
      "1811\n",
      " ['July', 'August', 'September'] ['1', '1019.3', '1012.0', '1004.3', '1008.1', '1019.0', '1015.4']\n",
      "1811\n",
      " ['October', 'November', 'December'] ['1', '1026.8', '1033.3', '995.6', '1000.9', '1010.0', '981.7']\n",
      "1812\n",
      " ['January', 'February', 'March'] ['1', '994.1', '983.4', '1014.4', '1025.1', '1016.0', '1020.3']\n",
      "1812\n",
      " ['April', 'May', 'June'] ['1', '1017.7', '1015.7', '1008.0', '1015.9', '1005.8', '1005.1']\n",
      "1812\n",
      " ['July', 'August', 'September'] ['1', '1015.0', '1014.8', '1007.4', '1001.9', '1014.1', '1010.1']\n",
      "1812\n",
      " ['October', 'November', 'December'] ['1', '1003.1', '1007.4', '997.6', '1006.5', '1004.4', '1017.9']\n",
      "1813\n",
      " ['January', 'February', 'March'] ['1', '1019.8', '1009.7', '996.9', '1007.2', '997.1', '998.1']\n",
      "1813\n",
      " ['April', 'May', 'June'] ['1', '1018.2', '1009.1', '1009.3', '1012.9', '1012.2', '1012.8']\n",
      "1813\n",
      " ['July', 'August', 'September'] ['1', '1009.1', '1008.9', '1022.0', '9999.9', '1012.1', '1013.8']\n",
      "1813\n",
      " ['October', 'November', 'December'] ['1', '1012.8', '1013.3', '1014.4', '1006.4', '1006.3', '999.4']\n",
      "1814\n",
      " ['January', 'February', 'March'] ['1', '1006.7', '1003.9', '990.1', '999.3', '1007.9', '994.4']\n",
      "1814\n",
      " ['April', 'May', 'June'] ['1', '989.0', '995.3', '999.5', '1005.3', '1006.1', '1008.7']\n",
      "1814\n",
      " ['July', 'August', 'September'] ['1', '1010.9', '1009.8', '1013.8', '1011.9', '1020.1', '1012.6']\n",
      "1814\n",
      " ['October', 'November', 'December'] ['1', '1020.6', '1011.8', '1028.6', '1032.8', '1006.7', '1014.1']\n",
      "1815\n",
      " ['January', 'February', 'March'] ['1', '1001.5', '1001.3', '1012.5', '1016.5', '1009.0', '1013.3']\n",
      "1815\n",
      " ['April', 'May', 'June'] ['1', '1001.1', '1014.2', '1013.6', '1013.4', '1016.3', '1014.0']\n",
      "1815\n",
      " ['July', 'August', 'September'] ['1', '1009.0', '999.7', '1002.4', '1006.9', '1013.3', '1016.2']\n",
      "1815\n",
      " ['October', 'November', 'December'] ['1', '1007.2', '1008.2', '1022.1', '1020.8', '1015.0', '1022.2']\n",
      "1816\n",
      " ['January', 'February', 'March'] ['1', '1001.5', '1003.0', '997.6', '994.2', '1020.2', '1023.5']\n",
      "1816\n",
      " ['April', 'May', 'June'] ['1', '1006.8', '996.2', '1004.5', '1004.2', '1012.7', '1004.7']\n",
      "1816\n",
      " ['July', 'August', 'September'] ['1', '1020.1', '1015.5', '1004.8', '1007.9', '1008.6', '1007.2']\n",
      "1816\n",
      " ['October', 'November', 'December'] ['1', '1019.3', '1018.5', '1005.9', '1008.9', '1014.8', '1021.5']\n",
      "1817\n",
      " ['January', 'February', 'March'] ['1', '1015.3', '1010.7', '1010.4', '1007.4', '997.2', '1007.2']\n",
      "1817\n",
      " ['April', 'May', 'June'] ['1', '1009.3', '1015.1', '1020.1', '1021.0', '1015.4', '1017.7']\n",
      "1817\n",
      " ['July', 'August', 'September'] ['1', '1001.1', '1001.6', '1012.5', '1014.1', '1015.8', '1015.7']\n",
      "1817\n",
      " ['October', 'November', 'December'] ['1', '1017.9', '1014.0', '1015.6', '1007.6', '1002.7', '1005.5']\n",
      "1818\n",
      " ['January', 'February', 'March'] ['1', '1010.5', '1007.6', '1021.8', '1026.8', '1017.5', '1009.8']\n",
      "1818\n",
      " ['April', 'May', 'June'] ['1', '1014.8', '1020.5', '1000.9', '995.5', '1014.4', '1014.4']\n",
      "1818\n",
      " ['July', 'August', 'September'] ['1', '1006.9', '1015.0', '1010.8', '1015.0', '1004.1', '1001.6']\n",
      "1818\n",
      " ['October', 'November', 'December'] ['1', '1020.9', '1019.0', '1003.0', '1003.5', '1019.5', '1020.6']\n",
      "1819\n",
      " ['January', 'February', 'March'] ['1', '1010.7', '1014.7', '1017.0', '1015.4', '1008.2', '997.4']\n",
      "1819\n",
      " ['April', 'May', 'June'] ['1', '1024.7', '1025.3', '1004.7', '1001.3', '1010.2', '1006.6']\n",
      "1819\n",
      " ['July', 'August', 'September'] ['1', '999.8', '1002.3', '1009.2', '1011.6', '1012.2', '1010.3']\n",
      "1819\n",
      " ['October', 'November', 'December'] ['1', '1001.2', '993.6', '1013.4', '1004.6', '1004.2', '991.7']\n",
      "1820\n",
      " ['January', 'February', 'March'] ['1', '1009.5', '1008.3', '1014.6', '1027.1', '1001.4', '998.0']\n",
      "1820\n",
      " ['April', 'May', 'June'] ['1', '996.6', '1004.7', '1005.1', '1004.6', '1013.6', '1009.6']\n",
      "1820\n",
      " ['July', 'August', 'September'] ['1', '1008.9', '1016.9', '1013.0', '1010.8', '1007.9', '1010.1']\n",
      "1820\n",
      " ['October', 'November', 'December'] ['1', '1024.2', '1025.2', '1010.4', '1004.9', '1006.5', '998.3']\n"
     ]
    }
   ],
   "source": [
    "# Convert Holyoke pressure data from .dat to .csv format\n",
    "def pressure_txt_dat_to_csv(file_path):\n",
    "    with open(file_path, 'r') as file:\n",
    "        lines = file.readlines()\n",
    "\n",
    "    datalist = []\n",
    "\n",
    "    offset = 0\n",
    "    # The file has 140 groups of 33 lines each\n",
    "    # The first line of this group is the year\n",
    "    # The second line contains the month names\n",
    "    # The next 31 lines contain the data for each day of the month\n",
    "    for offset in range(140):\n",
    "        year = lines[offset*33]\n",
    "        months = lines[offset*33+1].split()\n",
    "        data = lines[offset*33+2].split()\n",
    "        print(year, months, data)\n",
    "        \n",
    "        for i in range(3): # for each month, iterate over the data, while getting the date and entries\n",
    "            curr_month = months[i]\n",
    "            for line in range(31):\n",
    "                datestring = f'{year.strip()}_{curr_month}_{line+1}'\n",
    "                try:\n",
    "                    date = datetime.strptime(datestring, '%Y_%B_%d')\n",
    "                except ValueError:\n",
    "                    date = None\n",
    "                data = lines[offset*33+line+2].split()\n",
    "                curr_data = (date, data[2*i+1], data[2*i+2], datestring)\n",
    "                datalist.append(curr_data)\n",
    "\n",
    "    # Create a DataFrame and save it to CSV\n",
    "    df = pd.DataFrame(datalist, columns=['date', 'p0', 'p1', 'datestring'])\n",
    "    df.to_csv(file_path + '.csv', index=False)\n",
    "\n",
    "pressure_txt_dat_to_csv('data/Holyoke/holyoke.pressure.dat.txt')"
   ]
  },
  {
   "cell_type": "code",
   "execution_count": 27,
   "id": "d7086e56",
   "metadata": {},
   "outputs": [],
   "source": [
    "def temperature_txt_dat_to_csv(file_path):\n",
    "    with open(file_path, 'r') as file:\n",
    "        lines = file.readlines()\n",
    "\n",
    "    datalist = []\n",
    "\n",
    "    offset = 0\n",
    "    for offset in range(176):\n",
    "        year = lines[offset*33]\n",
    "        months = lines[offset*33+1].split()\n",
    "        data = lines[offset*33+2].split()\n",
    "        \n",
    "        for i in range(3):\n",
    "            curr_month = months[i]\n",
    "            for line in range(31):\n",
    "                datestring = f'{year.strip()}_{curr_month}_{line+1}'\n",
    "                try:\n",
    "                    date = datetime.strptime(datestring, '%Y_%B_%d')\n",
    "                except ValueError:\n",
    "                    date = None\n",
    "                data = lines[offset*33+line+2].split()\n",
    "                curr_data = (date, data[4*i+1], data[4*i+2], \n",
    "                             data[4*i+3], data[4*i+4],\n",
    "                             datestring)\n",
    "                datalist.append(curr_data)\n",
    "\n",
    "    df = pd.DataFrame(datalist, columns=['date', 't0', 't1', 't2', 't3', 'datestring'])\n",
    "    df.to_csv(file_path + '.csv', index=False)\n",
    "\n",
    "temperature_txt_dat_to_csv('data/Holyoke/holyoke.temperature.dat.txt')"
   ]
  },
  {
   "cell_type": "code",
   "execution_count": 28,
   "id": "8b55f865",
   "metadata": {},
   "outputs": [
    {
     "name": "stdout",
     "output_type": "stream",
     "text": [
      "The sql extension is already loaded. To reload it, use:\n",
      "  %reload_ext sql\n"
     ]
    }
   ],
   "source": [
    "%load_ext sql\n",
    "conn = duckdb.connect('dbs/holyoke_database.db')\n",
    "%sql conn --alias duckdb\n",
    "\n",
    "%config SqlMagic.autopandas = True\n",
    "%config SqlMagic.feedback = False\n",
    "%config SqlMagic.displaycon = False"
   ]
  },
  {
   "cell_type": "markdown",
   "id": "df47b4bd",
   "metadata": {},
   "source": [
    "Month\n",
    "pe      pe    te      te      te      te\n",
    "08:00   12:00 08:00   12:00   sunset  22:00\n",
    "\n",
    "The observation time for the first measurement was generally noted down as `eight o'clock', but sometimes `from eight to nine'.  The second observation (for temperature and the state of the weather) is generally made around noon, but sometimes `at one P.M.', `at two P.M.' or `between one and two P.M.'. The third measurement (for temperature and the state of the weather) is at sunset, and the fourth is uniformly at ten in the evening.\n",
    "In contrast to the data in partI, the first of the five thermometer readings denote the measurement taken at night. The second to fifth readings correspond to similar observing times as in PartI."
   ]
  },
  {
   "cell_type": "code",
   "execution_count": null,
   "id": "3a3d3be5",
   "metadata": {},
   "outputs": [
    {
     "data": {
      "application/vnd.microsoft.datawrangler.viewer.v0+json": {
       "columns": [
        {
         "name": "index",
         "rawType": "int64",
         "type": "integer"
        },
        {
         "name": "Count",
         "rawType": "int64",
         "type": "integer"
        }
       ],
       "ref": "df07bfac-2318-44e2-91e9-5a44ce1093f1",
       "rows": [
        [
         "0",
         "13020"
        ]
       ],
       "shape": {
        "columns": 1,
        "rows": 1
       }
      },
      "text/html": [
       "<div>\n",
       "<style scoped>\n",
       "    .dataframe tbody tr th:only-of-type {\n",
       "        vertical-align: middle;\n",
       "    }\n",
       "\n",
       "    .dataframe tbody tr th {\n",
       "        vertical-align: top;\n",
       "    }\n",
       "\n",
       "    .dataframe thead th {\n",
       "        text-align: right;\n",
       "    }\n",
       "</style>\n",
       "<table border=\"1\" class=\"dataframe\">\n",
       "  <thead>\n",
       "    <tr style=\"text-align: right;\">\n",
       "      <th></th>\n",
       "      <th>Count</th>\n",
       "    </tr>\n",
       "  </thead>\n",
       "  <tbody>\n",
       "    <tr>\n",
       "      <th>0</th>\n",
       "      <td>13020</td>\n",
       "    </tr>\n",
       "  </tbody>\n",
       "</table>\n",
       "</div>"
      ],
      "text/plain": [
       "   Count\n",
       "0  13020"
      ]
     },
     "execution_count": 29,
     "metadata": {},
     "output_type": "execute_result"
    }
   ],
   "source": [
    "%%sql\n",
    "# Read the pressure CSVs\n",
    "DROP TABLE IF EXISTS Pressure;\n",
    "CREATE TABLE Pressure AS\n",
    "SELECT\n",
    "    date,\n",
    "    p0,\n",
    "    p1,\n",
    "    # CASE\n",
    "    #     WHEN TRY_CAST(STRPTIME(date, '%Y_%B_%d') AS TIMESTAMP) IS NULL THEN NULL\n",
    "    #     ELSE STRPTIME(date, '%Y_%B_%d')\n",
    "    # END AS datetime_column\n",
    "FROM read_csv_auto('data/Holyoke/holyoke.pressure.dat.txt.csv')"
   ]
  },
  {
   "cell_type": "code",
   "execution_count": null,
   "id": "0b951b1c",
   "metadata": {},
   "outputs": [
    {
     "data": {
      "application/vnd.microsoft.datawrangler.viewer.v0+json": {
       "columns": [
        {
         "name": "index",
         "rawType": "int64",
         "type": "integer"
        },
        {
         "name": "Count",
         "rawType": "int64",
         "type": "integer"
        }
       ],
       "ref": "8c67bd59-1217-471b-865e-8b96561daf1d",
       "rows": [
        [
         "0",
         "570"
        ]
       ],
       "shape": {
        "columns": 1,
        "rows": 1
       }
      },
      "text/html": [
       "<div>\n",
       "<style scoped>\n",
       "    .dataframe tbody tr th:only-of-type {\n",
       "        vertical-align: middle;\n",
       "    }\n",
       "\n",
       "    .dataframe tbody tr th {\n",
       "        vertical-align: top;\n",
       "    }\n",
       "\n",
       "    .dataframe thead th {\n",
       "        text-align: right;\n",
       "    }\n",
       "</style>\n",
       "<table border=\"1\" class=\"dataframe\">\n",
       "  <thead>\n",
       "    <tr style=\"text-align: right;\">\n",
       "      <th></th>\n",
       "      <th>Count</th>\n",
       "    </tr>\n",
       "  </thead>\n",
       "  <tbody>\n",
       "    <tr>\n",
       "      <th>0</th>\n",
       "      <td>570</td>\n",
       "    </tr>\n",
       "  </tbody>\n",
       "</table>\n",
       "</div>"
      ],
      "text/plain": [
       "   Count\n",
       "0    570"
      ]
     },
     "execution_count": 31,
     "metadata": {},
     "output_type": "execute_result"
    }
   ],
   "source": [
    "%%sql\n",
    "# Set the NULL values\n",
    "UPDATE Pressure\n",
    "SET p0 = NULL\n",
    "WHERE p0 = 9999.9;"
   ]
  },
  {
   "cell_type": "code",
   "execution_count": 32,
   "id": "ffbf733c",
   "metadata": {},
   "outputs": [
    {
     "data": {
      "application/vnd.microsoft.datawrangler.viewer.v0+json": {
       "columns": [
        {
         "name": "index",
         "rawType": "int64",
         "type": "integer"
        },
        {
         "name": "Count",
         "rawType": "int64",
         "type": "integer"
        }
       ],
       "ref": "1ce9fb2d-c533-434d-8844-b9056552ca3c",
       "rows": [
        [
         "0",
         "798"
        ]
       ],
       "shape": {
        "columns": 1,
        "rows": 1
       }
      },
      "text/html": [
       "<div>\n",
       "<style scoped>\n",
       "    .dataframe tbody tr th:only-of-type {\n",
       "        vertical-align: middle;\n",
       "    }\n",
       "\n",
       "    .dataframe tbody tr th {\n",
       "        vertical-align: top;\n",
       "    }\n",
       "\n",
       "    .dataframe thead th {\n",
       "        text-align: right;\n",
       "    }\n",
       "</style>\n",
       "<table border=\"1\" class=\"dataframe\">\n",
       "  <thead>\n",
       "    <tr style=\"text-align: right;\">\n",
       "      <th></th>\n",
       "      <th>Count</th>\n",
       "    </tr>\n",
       "  </thead>\n",
       "  <tbody>\n",
       "    <tr>\n",
       "      <th>0</th>\n",
       "      <td>798</td>\n",
       "    </tr>\n",
       "  </tbody>\n",
       "</table>\n",
       "</div>"
      ],
      "text/plain": [
       "   Count\n",
       "0    798"
      ]
     },
     "execution_count": 32,
     "metadata": {},
     "output_type": "execute_result"
    }
   ],
   "source": [
    "%%sql\n",
    "UPDATE Pressure\n",
    "SET p1 = NULL\n",
    "WHERE p1 = 9999.9;"
   ]
  },
  {
   "cell_type": "markdown",
   "id": "b0512b2b",
   "metadata": {},
   "source": [
    "#### Temperature"
   ]
  },
  {
   "cell_type": "code",
   "execution_count": null,
   "id": "463d7e26",
   "metadata": {},
   "outputs": [
    {
     "data": {
      "application/vnd.microsoft.datawrangler.viewer.v0+json": {
       "columns": [
        {
         "name": "index",
         "rawType": "int64",
         "type": "integer"
        },
        {
         "name": "Count",
         "rawType": "int64",
         "type": "integer"
        }
       ],
       "ref": "66e22ea3-91cb-4ea0-aa53-4a8c5878e5c6",
       "rows": [
        [
         "0",
         "16368"
        ]
       ],
       "shape": {
        "columns": 1,
        "rows": 1
       }
      },
      "text/html": [
       "<div>\n",
       "<style scoped>\n",
       "    .dataframe tbody tr th:only-of-type {\n",
       "        vertical-align: middle;\n",
       "    }\n",
       "\n",
       "    .dataframe tbody tr th {\n",
       "        vertical-align: top;\n",
       "    }\n",
       "\n",
       "    .dataframe thead th {\n",
       "        text-align: right;\n",
       "    }\n",
       "</style>\n",
       "<table border=\"1\" class=\"dataframe\">\n",
       "  <thead>\n",
       "    <tr style=\"text-align: right;\">\n",
       "      <th></th>\n",
       "      <th>Count</th>\n",
       "    </tr>\n",
       "  </thead>\n",
       "  <tbody>\n",
       "    <tr>\n",
       "      <th>0</th>\n",
       "      <td>16368</td>\n",
       "    </tr>\n",
       "  </tbody>\n",
       "</table>\n",
       "</div>"
      ],
      "text/plain": [
       "   Count\n",
       "0  16368"
      ]
     },
     "execution_count": 35,
     "metadata": {},
     "output_type": "execute_result"
    }
   ],
   "source": [
    "%%sql\n",
    "# Read the temperature CSVs\n",
    "DROP TABLE IF EXISTS Temperature;\n",
    "CREATE TABLE Temperature AS\n",
    "SELECT *\n",
    "FROM read_csv_auto('data/Holyoke/holyoke.temperature.dat.txt.csv')"
   ]
  },
  {
   "cell_type": "code",
   "execution_count": null,
   "id": "186bd1d5",
   "metadata": {},
   "outputs": [
    {
     "data": {
      "application/vnd.microsoft.datawrangler.viewer.v0+json": {
       "columns": [
        {
         "name": "index",
         "rawType": "int64",
         "type": "integer"
        },
        {
         "name": "Count",
         "rawType": "int64",
         "type": "integer"
        }
       ],
       "ref": "05d71407-c0a8-4366-b3a8-5def5e6c5a85",
       "rows": [
        [
         "0",
         "803"
        ]
       ],
       "shape": {
        "columns": 1,
        "rows": 1
       }
      },
      "text/html": [
       "<div>\n",
       "<style scoped>\n",
       "    .dataframe tbody tr th:only-of-type {\n",
       "        vertical-align: middle;\n",
       "    }\n",
       "\n",
       "    .dataframe tbody tr th {\n",
       "        vertical-align: top;\n",
       "    }\n",
       "\n",
       "    .dataframe thead th {\n",
       "        text-align: right;\n",
       "    }\n",
       "</style>\n",
       "<table border=\"1\" class=\"dataframe\">\n",
       "  <thead>\n",
       "    <tr style=\"text-align: right;\">\n",
       "      <th></th>\n",
       "      <th>Count</th>\n",
       "    </tr>\n",
       "  </thead>\n",
       "  <tbody>\n",
       "    <tr>\n",
       "      <th>0</th>\n",
       "      <td>803</td>\n",
       "    </tr>\n",
       "  </tbody>\n",
       "</table>\n",
       "</div>"
      ],
      "text/plain": [
       "   Count\n",
       "0    803"
      ]
     },
     "execution_count": 36,
     "metadata": {},
     "output_type": "execute_result"
    }
   ],
   "source": [
    "%%sql\n",
    "# Set the NULL values\n",
    "UPDATE Temperature\n",
    "SET t0 = NULL\n",
    "WHERE t0 = -99.0;"
   ]
  },
  {
   "cell_type": "code",
   "execution_count": 37,
   "id": "07f3dddb",
   "metadata": {},
   "outputs": [
    {
     "data": {
      "application/vnd.microsoft.datawrangler.viewer.v0+json": {
       "columns": [
        {
         "name": "index",
         "rawType": "int64",
         "type": "integer"
        },
        {
         "name": "Count",
         "rawType": "int64",
         "type": "integer"
        }
       ],
       "ref": "ee9be250-64fc-4ec4-8269-e74ceff51305",
       "rows": [
        [
         "0",
         "729"
        ]
       ],
       "shape": {
        "columns": 1,
        "rows": 1
       }
      },
      "text/html": [
       "<div>\n",
       "<style scoped>\n",
       "    .dataframe tbody tr th:only-of-type {\n",
       "        vertical-align: middle;\n",
       "    }\n",
       "\n",
       "    .dataframe tbody tr th {\n",
       "        vertical-align: top;\n",
       "    }\n",
       "\n",
       "    .dataframe thead th {\n",
       "        text-align: right;\n",
       "    }\n",
       "</style>\n",
       "<table border=\"1\" class=\"dataframe\">\n",
       "  <thead>\n",
       "    <tr style=\"text-align: right;\">\n",
       "      <th></th>\n",
       "      <th>Count</th>\n",
       "    </tr>\n",
       "  </thead>\n",
       "  <tbody>\n",
       "    <tr>\n",
       "      <th>0</th>\n",
       "      <td>729</td>\n",
       "    </tr>\n",
       "  </tbody>\n",
       "</table>\n",
       "</div>"
      ],
      "text/plain": [
       "   Count\n",
       "0    729"
      ]
     },
     "execution_count": 37,
     "metadata": {},
     "output_type": "execute_result"
    }
   ],
   "source": [
    "%%sql\n",
    "UPDATE Temperature\n",
    "SET t1 = NULL\n",
    "WHERE t1 = -99.0;"
   ]
  },
  {
   "cell_type": "code",
   "execution_count": 38,
   "id": "7afdeced",
   "metadata": {},
   "outputs": [
    {
     "data": {
      "application/vnd.microsoft.datawrangler.viewer.v0+json": {
       "columns": [
        {
         "name": "index",
         "rawType": "int64",
         "type": "integer"
        },
        {
         "name": "Count",
         "rawType": "int64",
         "type": "integer"
        }
       ],
       "ref": "1696adcc-8a24-43be-9567-33f0f4f53064",
       "rows": [
        [
         "0",
         "1459"
        ]
       ],
       "shape": {
        "columns": 1,
        "rows": 1
       }
      },
      "text/html": [
       "<div>\n",
       "<style scoped>\n",
       "    .dataframe tbody tr th:only-of-type {\n",
       "        vertical-align: middle;\n",
       "    }\n",
       "\n",
       "    .dataframe tbody tr th {\n",
       "        vertical-align: top;\n",
       "    }\n",
       "\n",
       "    .dataframe thead th {\n",
       "        text-align: right;\n",
       "    }\n",
       "</style>\n",
       "<table border=\"1\" class=\"dataframe\">\n",
       "  <thead>\n",
       "    <tr style=\"text-align: right;\">\n",
       "      <th></th>\n",
       "      <th>Count</th>\n",
       "    </tr>\n",
       "  </thead>\n",
       "  <tbody>\n",
       "    <tr>\n",
       "      <th>0</th>\n",
       "      <td>1459</td>\n",
       "    </tr>\n",
       "  </tbody>\n",
       "</table>\n",
       "</div>"
      ],
      "text/plain": [
       "   Count\n",
       "0   1459"
      ]
     },
     "execution_count": 38,
     "metadata": {},
     "output_type": "execute_result"
    }
   ],
   "source": [
    "%%sql\n",
    "UPDATE Temperature\n",
    "SET t2 = NULL\n",
    "WHERE t2 = -99.0;"
   ]
  },
  {
   "cell_type": "code",
   "execution_count": 39,
   "id": "fedb3bec",
   "metadata": {},
   "outputs": [
    {
     "data": {
      "application/vnd.microsoft.datawrangler.viewer.v0+json": {
       "columns": [
        {
         "name": "index",
         "rawType": "int64",
         "type": "integer"
        },
        {
         "name": "Count",
         "rawType": "int64",
         "type": "integer"
        }
       ],
       "ref": "ab0ed456-f6d2-4637-bc09-754148e8b431",
       "rows": [
        [
         "0",
         "761"
        ]
       ],
       "shape": {
        "columns": 1,
        "rows": 1
       }
      },
      "text/html": [
       "<div>\n",
       "<style scoped>\n",
       "    .dataframe tbody tr th:only-of-type {\n",
       "        vertical-align: middle;\n",
       "    }\n",
       "\n",
       "    .dataframe tbody tr th {\n",
       "        vertical-align: top;\n",
       "    }\n",
       "\n",
       "    .dataframe thead th {\n",
       "        text-align: right;\n",
       "    }\n",
       "</style>\n",
       "<table border=\"1\" class=\"dataframe\">\n",
       "  <thead>\n",
       "    <tr style=\"text-align: right;\">\n",
       "      <th></th>\n",
       "      <th>Count</th>\n",
       "    </tr>\n",
       "  </thead>\n",
       "  <tbody>\n",
       "    <tr>\n",
       "      <th>0</th>\n",
       "      <td>761</td>\n",
       "    </tr>\n",
       "  </tbody>\n",
       "</table>\n",
       "</div>"
      ],
      "text/plain": [
       "   Count\n",
       "0    761"
      ]
     },
     "execution_count": 39,
     "metadata": {},
     "output_type": "execute_result"
    }
   ],
   "source": [
    "%%sql\n",
    "UPDATE Temperature\n",
    "SET t3 = NULL\n",
    "WHERE t3 = -99.0;"
   ]
  },
  {
   "cell_type": "markdown",
   "id": "45f942af",
   "metadata": {},
   "source": [
    "#### Combined data"
   ]
  },
  {
   "cell_type": "code",
   "execution_count": null,
   "id": "779493e8",
   "metadata": {},
   "outputs": [
    {
     "data": {
      "application/vnd.microsoft.datawrangler.viewer.v0+json": {
       "columns": [
        {
         "name": "index",
         "rawType": "int64",
         "type": "integer"
        },
        {
         "name": "Count",
         "rawType": "int64",
         "type": "integer"
        }
       ],
       "ref": "7f5da9ed-0399-44f9-8b47-2b0c1c79118a",
       "rows": [
        [
         "0",
         "16605"
        ]
       ],
       "shape": {
        "columns": 1,
        "rows": 1
       }
      },
      "text/html": [
       "<div>\n",
       "<style scoped>\n",
       "    .dataframe tbody tr th:only-of-type {\n",
       "        vertical-align: middle;\n",
       "    }\n",
       "\n",
       "    .dataframe tbody tr th {\n",
       "        vertical-align: top;\n",
       "    }\n",
       "\n",
       "    .dataframe thead th {\n",
       "        text-align: right;\n",
       "    }\n",
       "</style>\n",
       "<table border=\"1\" class=\"dataframe\">\n",
       "  <thead>\n",
       "    <tr style=\"text-align: right;\">\n",
       "      <th></th>\n",
       "      <th>Count</th>\n",
       "    </tr>\n",
       "  </thead>\n",
       "  <tbody>\n",
       "    <tr>\n",
       "      <th>0</th>\n",
       "      <td>16605</td>\n",
       "    </tr>\n",
       "  </tbody>\n",
       "</table>\n",
       "</div>"
      ],
      "text/plain": [
       "   Count\n",
       "0  16605"
      ]
     },
     "execution_count": 42,
     "metadata": {},
     "output_type": "execute_result"
    }
   ],
   "source": [
    "%%sql\n",
    "# Create the Holyoke table by joining Temperature and Pressure on date\n",
    "DROP TABLE IF EXISTS Holyoke;\n",
    "CREATE TABLE Holyoke AS\n",
    "SELECT * FROM Temperature\n",
    "FULL JOIN Pressure\n",
    "USING (date);"
   ]
  },
  {
   "cell_type": "code",
   "execution_count": null,
   "id": "aaf67d15",
   "metadata": {},
   "outputs": [
    {
     "data": {
      "application/vnd.microsoft.datawrangler.viewer.v0+json": {
       "columns": [
        {
         "name": "index",
         "rawType": "int64",
         "type": "integer"
        },
        {
         "name": "Count",
         "rawType": "int64",
         "type": "integer"
        }
       ],
       "ref": "8c1e3b6f-b700-4db5-906f-83d419080069",
       "rows": [
        [
         "0",
         "64280"
        ]
       ],
       "shape": {
        "columns": 1,
        "rows": 1
       }
      },
      "text/html": [
       "<div>\n",
       "<style scoped>\n",
       "    .dataframe tbody tr th:only-of-type {\n",
       "        vertical-align: middle;\n",
       "    }\n",
       "\n",
       "    .dataframe tbody tr th {\n",
       "        vertical-align: top;\n",
       "    }\n",
       "\n",
       "    .dataframe thead th {\n",
       "        text-align: right;\n",
       "    }\n",
       "</style>\n",
       "<table border=\"1\" class=\"dataframe\">\n",
       "  <thead>\n",
       "    <tr style=\"text-align: right;\">\n",
       "      <th></th>\n",
       "      <th>Count</th>\n",
       "    </tr>\n",
       "  </thead>\n",
       "  <tbody>\n",
       "    <tr>\n",
       "      <th>0</th>\n",
       "      <td>64280</td>\n",
       "    </tr>\n",
       "  </tbody>\n",
       "</table>\n",
       "</div>"
      ],
      "text/plain": [
       "   Count\n",
       "0  64280"
      ]
     },
     "execution_count": 45,
     "metadata": {},
     "output_type": "execute_result"
    }
   ],
   "source": [
    "%%sql\n",
    "# Combine the columns at different times in single columns with timestamp\n",
    "DROP TABLE IF EXISTS Holyoke_Long;\n",
    "CREATE TABLE Holyoke_Long AS \n",
    "SELECT * FROM\n",
    "    (\n",
    "    SELECT\n",
    "        date,\n",
    "        '08:00:00' AS time_of_day,\n",
    "        (Date + INTERVAL '8 hours') AT TIME ZONE 'America/New_York' AS Timestamp,\n",
    "        t0 AS temperature,\n",
    "        p0 AS pressure\n",
    "    FROM Holyoke\n",
    "\n",
    "    UNION ALL\n",
    "\n",
    "    SELECT\n",
    "        date,\n",
    "        '12:00:00' AS time_of_day,\n",
    "        (Date + INTERVAL '12 hours') AT TIME ZONE 'America/New_York' AS Timestamp,\n",
    "        t1 AS temperature,\n",
    "        p1 AS pressure\n",
    "    FROM Holyoke\n",
    "\n",
    "    UNION ALL\n",
    "\n",
    "    -- SUNSET\n",
    "    SELECT\n",
    "        date,\n",
    "        '19:00:00' AS time_of_day, \n",
    "        (Date + INTERVAL '19 hours') AT TIME ZONE 'America/New_York' AS Timestamp,\n",
    "        t2 AS temperature,\n",
    "        NULL AS pressure\n",
    "    FROM Holyoke\n",
    "\n",
    "    UNION ALL\n",
    "\n",
    "    SELECT\n",
    "        date,\n",
    "        '22:00:00' AS time_of_day,\n",
    "        (Date + INTERVAL '22 hours') AT TIME ZONE 'America/New_York' AS Timestamp,\n",
    "        t3 AS temperature,\n",
    "        NULL AS pressure\n",
    "    FROM Holyoke\n",
    "    )\n",
    "    WHERE Date IS NOT NULL;"
   ]
  },
  {
   "cell_type": "code",
   "execution_count": 48,
   "id": "d41e7f70",
   "metadata": {},
   "outputs": [
    {
     "data": {
      "application/vnd.microsoft.datawrangler.viewer.v0+json": {
       "columns": [
        {
         "name": "index",
         "rawType": "int64",
         "type": "integer"
        },
        {
         "name": "Count",
         "rawType": "int64",
         "type": "integer"
        }
       ],
       "ref": "b20e9ffe-cf42-449f-912f-3f1000e9b664",
       "rows": [
        [
         "0",
         "64280"
        ]
       ],
       "shape": {
        "columns": 1,
        "rows": 1
       }
      },
      "text/html": [
       "<div>\n",
       "<style scoped>\n",
       "    .dataframe tbody tr th:only-of-type {\n",
       "        vertical-align: middle;\n",
       "    }\n",
       "\n",
       "    .dataframe tbody tr th {\n",
       "        vertical-align: top;\n",
       "    }\n",
       "\n",
       "    .dataframe thead th {\n",
       "        text-align: right;\n",
       "    }\n",
       "</style>\n",
       "<table border=\"1\" class=\"dataframe\">\n",
       "  <thead>\n",
       "    <tr style=\"text-align: right;\">\n",
       "      <th></th>\n",
       "      <th>Count</th>\n",
       "    </tr>\n",
       "  </thead>\n",
       "  <tbody>\n",
       "    <tr>\n",
       "      <th>0</th>\n",
       "      <td>64280</td>\n",
       "    </tr>\n",
       "  </tbody>\n",
       "</table>\n",
       "</div>"
      ],
      "text/plain": [
       "   Count\n",
       "0  64280"
      ]
     },
     "execution_count": 48,
     "metadata": {},
     "output_type": "execute_result"
    }
   ],
   "source": [
    "%%sql\n",
    "COPY\n",
    "    (SELECT * FROM Holyoke_Long)\n",
    "    TO 'dbs/holyoke.parquet'\n",
    "    (FORMAT parquet);"
   ]
  },
  {
   "cell_type": "code",
   "execution_count": 49,
   "id": "f647d87d",
   "metadata": {},
   "outputs": [
    {
     "name": "stdout",
     "output_type": "stream",
     "text": [
      "Script executed in 1.82 seconds.\n"
     ]
    }
   ],
   "source": [
    "end_time = time.time()\n",
    "print(f\"Script executed in {end_time - start_time:.2f} seconds.\")"
   ]
  }
 ],
 "metadata": {
  "kernelspec": {
   "display_name": ".venv",
   "language": "python",
   "name": "python3"
  },
  "language_info": {
   "codemirror_mode": {
    "name": "ipython",
    "version": 3
   },
   "file_extension": ".py",
   "mimetype": "text/x-python",
   "name": "python",
   "nbconvert_exporter": "python",
   "pygments_lexer": "ipython3",
   "version": "3.10.12"
  }
 },
 "nbformat": 4,
 "nbformat_minor": 5
}
