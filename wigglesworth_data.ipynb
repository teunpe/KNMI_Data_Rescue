{
 "cells": [
  {
   "cell_type": "code",
   "execution_count": 26,
   "id": "95988412",
   "metadata": {},
   "outputs": [],
   "source": [
    "import duckdb\n",
    "import pandas as pd\n",
    "from datetime import datetime\n",
    "import time\n",
    "start_time = time.time()"
   ]
  },
  {
   "cell_type": "code",
   "execution_count": null,
   "id": "ca683792",
   "metadata": {},
   "outputs": [],
   "source": [
    "# Convert Holyoke pressure data from .dat to .csv format\n",
    "def pressure_txt_dat_to_csv(file_path):\n",
    "    with open(file_path, 'r') as file:\n",
    "        lines = file.readlines()\n",
    "\n",
    "    datalist = []\n",
    "    # The file has 48 groups of 33 lines each\n",
    "    # The first line of this group is the year\n",
    "    # The second line contains the month names\n",
    "    # The next 31 lines contain the data for each day of the month\n",
    "    offset = 0\n",
    "    for offset in range(48):\n",
    "        year = lines[offset*33]\n",
    "        months = lines[offset*33+1].split()\n",
    "        data = lines[offset*33+2].split()\n",
    "        \n",
    "        curr_month = months[0]\n",
    "        for line in range(31):\n",
    "            datestring = f'{year.strip()}_{curr_month}_{line+1}'\n",
    "            try:\n",
    "                date = datetime.strptime(datestring, '%Y_%B_%d')\n",
    "            except ValueError:\n",
    "                date = None\n",
    "            data = lines[offset*33+line+2].split()\n",
    "            curr_data = (date, data[1], data[2], data[3], datestring)\n",
    "            datalist.append(curr_data)\n",
    "\n",
    "    df = pd.DataFrame(datalist, columns=['date', 'p0', 'p1', 'p2', 'datestring'])\n",
    "    df.to_csv(file_path + '.csv', index=False)\n",
    "\n",
    "pressure_txt_dat_to_csv('data/Wigglesworth/wigglesworth.pressure.dat.txt')"
   ]
  },
  {
   "cell_type": "code",
   "execution_count": 28,
   "id": "337da823",
   "metadata": {},
   "outputs": [],
   "source": [
    "def temperature_txt_dat_to_csv(file_path):\n",
    "    with open(file_path, 'r') as file:\n",
    "        lines = file.readlines()\n",
    "\n",
    "    datalist = []\n",
    "\n",
    "    offset = 0\n",
    "    for offset in range(48):\n",
    "        year = lines[offset*33]\n",
    "        months = lines[offset*33+1].split()\n",
    "        data = lines[offset*33+2].split()\n",
    "        \n",
    "        curr_month = months[0]\n",
    "        for line in range(31):\n",
    "            datestring = f'{year.strip()}_{curr_month}_{line+1}'\n",
    "            try:\n",
    "                date = datetime.strptime(datestring, '%Y_%B_%d')\n",
    "            except ValueError:\n",
    "                date = None\n",
    "            data = lines[offset*33+line+2].split()\n",
    "            curr_data = (date, data[1], data[2], data[3], \n",
    "                         data[4], data[5], data[6], datestring)\n",
    "            datalist.append(curr_data)\n",
    "\n",
    "    df = pd.DataFrame(datalist, columns=['date', 'it8', 'it13', 'it21', \n",
    "                                         'ot8', 'ot13', 'ot21', 'datestring'])\n",
    "    df.to_csv(file_path + '.csv', index=False)\n",
    "\n",
    "temperature_txt_dat_to_csv('data/Wigglesworth/wigglesworth.temperature.dat.txt')"
   ]
  },
  {
   "cell_type": "code",
   "execution_count": 29,
   "id": "5179d216",
   "metadata": {},
   "outputs": [
    {
     "name": "stdout",
     "output_type": "stream",
     "text": [
      "The sql extension is already loaded. To reload it, use:\n",
      "  %reload_ext sql\n"
     ]
    }
   ],
   "source": [
    "%load_ext sql\n",
    "conn = duckdb.connect('dbs/wigglesworth_database.db')\n",
    "%sql conn --alias duckdb\n",
    "\n",
    "%config SqlMagic.autopandas = True\n",
    "%config SqlMagic.feedback = False\n",
    "%config SqlMagic.displaycon = False"
   ]
  },
  {
   "cell_type": "markdown",
   "id": "1b854c28",
   "metadata": {},
   "source": [
    "#### Pressure"
   ]
  },
  {
   "cell_type": "code",
   "execution_count": null,
   "id": "ede78de2",
   "metadata": {},
   "outputs": [
    {
     "data": {
      "application/vnd.microsoft.datawrangler.viewer.v0+json": {
       "columns": [
        {
         "name": "index",
         "rawType": "int64",
         "type": "integer"
        },
        {
         "name": "Count",
         "rawType": "int64",
         "type": "integer"
        }
       ],
       "ref": "69e63929-ef13-437f-a671-44e9e9ca2f2a",
       "rows": [
        [
         "0",
         "1488"
        ]
       ],
       "shape": {
        "columns": 1,
        "rows": 1
       }
      },
      "text/html": [
       "<div>\n",
       "<style scoped>\n",
       "    .dataframe tbody tr th:only-of-type {\n",
       "        vertical-align: middle;\n",
       "    }\n",
       "\n",
       "    .dataframe tbody tr th {\n",
       "        vertical-align: top;\n",
       "    }\n",
       "\n",
       "    .dataframe thead th {\n",
       "        text-align: right;\n",
       "    }\n",
       "</style>\n",
       "<table border=\"1\" class=\"dataframe\">\n",
       "  <thead>\n",
       "    <tr style=\"text-align: right;\">\n",
       "      <th></th>\n",
       "      <th>Count</th>\n",
       "    </tr>\n",
       "  </thead>\n",
       "  <tbody>\n",
       "    <tr>\n",
       "      <th>0</th>\n",
       "      <td>1488</td>\n",
       "    </tr>\n",
       "  </tbody>\n",
       "</table>\n",
       "</div>"
      ],
      "text/plain": [
       "   Count\n",
       "0   1488"
      ]
     },
     "execution_count": 30,
     "metadata": {},
     "output_type": "execute_result"
    }
   ],
   "source": [
    "%%sql\n",
    "# Read the CSVs\n",
    "DROP TABLE IF EXISTS Pressure;\n",
    "CREATE TABLE Pressure AS\n",
    "SELECT\n",
    "    *\n",
    "FROM read_csv_auto('data/Wigglesworth/wigglesworth.pressure.dat.txt.csv')"
   ]
  },
  {
   "cell_type": "code",
   "execution_count": null,
   "id": "5deb5a0e",
   "metadata": {},
   "outputs": [
    {
     "data": {
      "application/vnd.microsoft.datawrangler.viewer.v0+json": {
       "columns": [
        {
         "name": "index",
         "rawType": "int64",
         "type": "integer"
        },
        {
         "name": "Count",
         "rawType": "int64",
         "type": "integer"
        }
       ],
       "ref": "9c6e17c1-16fa-454c-8bcd-65b7a04d01e9",
       "rows": [
        [
         "0",
         "27"
        ]
       ],
       "shape": {
        "columns": 1,
        "rows": 1
       }
      },
      "text/html": [
       "<div>\n",
       "<style scoped>\n",
       "    .dataframe tbody tr th:only-of-type {\n",
       "        vertical-align: middle;\n",
       "    }\n",
       "\n",
       "    .dataframe tbody tr th {\n",
       "        vertical-align: top;\n",
       "    }\n",
       "\n",
       "    .dataframe thead th {\n",
       "        text-align: right;\n",
       "    }\n",
       "</style>\n",
       "<table border=\"1\" class=\"dataframe\">\n",
       "  <thead>\n",
       "    <tr style=\"text-align: right;\">\n",
       "      <th></th>\n",
       "      <th>Count</th>\n",
       "    </tr>\n",
       "  </thead>\n",
       "  <tbody>\n",
       "    <tr>\n",
       "      <th>0</th>\n",
       "      <td>27</td>\n",
       "    </tr>\n",
       "  </tbody>\n",
       "</table>\n",
       "</div>"
      ],
      "text/plain": [
       "   Count\n",
       "0     27"
      ]
     },
     "execution_count": 32,
     "metadata": {},
     "output_type": "execute_result"
    }
   ],
   "source": [
    "%%sql\n",
    "# Set the NULL values\n",
    "UPDATE Pressure\n",
    "SET p0 = NULL\n",
    "WHERE p0 = 100;"
   ]
  },
  {
   "cell_type": "code",
   "execution_count": 33,
   "id": "4771f39b",
   "metadata": {},
   "outputs": [
    {
     "data": {
      "application/vnd.microsoft.datawrangler.viewer.v0+json": {
       "columns": [
        {
         "name": "index",
         "rawType": "int64",
         "type": "integer"
        },
        {
         "name": "Count",
         "rawType": "int64",
         "type": "integer"
        }
       ],
       "ref": "9f5e80cd-9f33-4d43-b231-51641e1c3eec",
       "rows": [
        [
         "0",
         "27"
        ]
       ],
       "shape": {
        "columns": 1,
        "rows": 1
       }
      },
      "text/html": [
       "<div>\n",
       "<style scoped>\n",
       "    .dataframe tbody tr th:only-of-type {\n",
       "        vertical-align: middle;\n",
       "    }\n",
       "\n",
       "    .dataframe tbody tr th {\n",
       "        vertical-align: top;\n",
       "    }\n",
       "\n",
       "    .dataframe thead th {\n",
       "        text-align: right;\n",
       "    }\n",
       "</style>\n",
       "<table border=\"1\" class=\"dataframe\">\n",
       "  <thead>\n",
       "    <tr style=\"text-align: right;\">\n",
       "      <th></th>\n",
       "      <th>Count</th>\n",
       "    </tr>\n",
       "  </thead>\n",
       "  <tbody>\n",
       "    <tr>\n",
       "      <th>0</th>\n",
       "      <td>27</td>\n",
       "    </tr>\n",
       "  </tbody>\n",
       "</table>\n",
       "</div>"
      ],
      "text/plain": [
       "   Count\n",
       "0     27"
      ]
     },
     "execution_count": 33,
     "metadata": {},
     "output_type": "execute_result"
    }
   ],
   "source": [
    "%%sql\n",
    "UPDATE Pressure\n",
    "SET p1 = NULL\n",
    "WHERE p1 = 100;"
   ]
  },
  {
   "cell_type": "code",
   "execution_count": 34,
   "id": "6618a456",
   "metadata": {},
   "outputs": [
    {
     "data": {
      "application/vnd.microsoft.datawrangler.viewer.v0+json": {
       "columns": [
        {
         "name": "index",
         "rawType": "int64",
         "type": "integer"
        },
        {
         "name": "Count",
         "rawType": "int64",
         "type": "integer"
        }
       ],
       "ref": "8d4a6a75-a29c-432f-9ca3-6c318a0810ab",
       "rows": [
        [
         "0",
         "27"
        ]
       ],
       "shape": {
        "columns": 1,
        "rows": 1
       }
      },
      "text/html": [
       "<div>\n",
       "<style scoped>\n",
       "    .dataframe tbody tr th:only-of-type {\n",
       "        vertical-align: middle;\n",
       "    }\n",
       "\n",
       "    .dataframe tbody tr th {\n",
       "        vertical-align: top;\n",
       "    }\n",
       "\n",
       "    .dataframe thead th {\n",
       "        text-align: right;\n",
       "    }\n",
       "</style>\n",
       "<table border=\"1\" class=\"dataframe\">\n",
       "  <thead>\n",
       "    <tr style=\"text-align: right;\">\n",
       "      <th></th>\n",
       "      <th>Count</th>\n",
       "    </tr>\n",
       "  </thead>\n",
       "  <tbody>\n",
       "    <tr>\n",
       "      <th>0</th>\n",
       "      <td>27</td>\n",
       "    </tr>\n",
       "  </tbody>\n",
       "</table>\n",
       "</div>"
      ],
      "text/plain": [
       "   Count\n",
       "0     27"
      ]
     },
     "execution_count": 34,
     "metadata": {},
     "output_type": "execute_result"
    }
   ],
   "source": [
    "%%sql\n",
    "UPDATE Pressure\n",
    "SET p2 = NULL\n",
    "WHERE p2 = 100;"
   ]
  },
  {
   "cell_type": "markdown",
   "id": "027de42d",
   "metadata": {},
   "source": [
    "#### Temperature"
   ]
  },
  {
   "cell_type": "code",
   "execution_count": null,
   "id": "93942cc1",
   "metadata": {},
   "outputs": [
    {
     "data": {
      "application/vnd.microsoft.datawrangler.viewer.v0+json": {
       "columns": [
        {
         "name": "index",
         "rawType": "int64",
         "type": "integer"
        },
        {
         "name": "Count",
         "rawType": "int64",
         "type": "integer"
        }
       ],
       "ref": "ff05f043-e28c-4a5b-9a17-463f202298e9",
       "rows": [
        [
         "0",
         "1488"
        ]
       ],
       "shape": {
        "columns": 1,
        "rows": 1
       }
      },
      "text/html": [
       "<div>\n",
       "<style scoped>\n",
       "    .dataframe tbody tr th:only-of-type {\n",
       "        vertical-align: middle;\n",
       "    }\n",
       "\n",
       "    .dataframe tbody tr th {\n",
       "        vertical-align: top;\n",
       "    }\n",
       "\n",
       "    .dataframe thead th {\n",
       "        text-align: right;\n",
       "    }\n",
       "</style>\n",
       "<table border=\"1\" class=\"dataframe\">\n",
       "  <thead>\n",
       "    <tr style=\"text-align: right;\">\n",
       "      <th></th>\n",
       "      <th>Count</th>\n",
       "    </tr>\n",
       "  </thead>\n",
       "  <tbody>\n",
       "    <tr>\n",
       "      <th>0</th>\n",
       "      <td>1488</td>\n",
       "    </tr>\n",
       "  </tbody>\n",
       "</table>\n",
       "</div>"
      ],
      "text/plain": [
       "   Count\n",
       "0   1488"
      ]
     },
     "execution_count": 37,
     "metadata": {},
     "output_type": "execute_result"
    }
   ],
   "source": [
    "%%sql\n",
    "# Read the CSVs for temperature\n",
    "DROP TABLE IF EXISTS Temperature;\n",
    "CREATE TABLE Temperature AS\n",
    "SELECT *\n",
    "FROM read_csv_auto('data/Wigglesworth/wigglesworth.temperature.dat.txt.csv')"
   ]
  },
  {
   "cell_type": "code",
   "execution_count": null,
   "id": "c52eeab1",
   "metadata": {},
   "outputs": [
    {
     "data": {
      "application/vnd.microsoft.datawrangler.viewer.v0+json": {
       "columns": [
        {
         "name": "index",
         "rawType": "int64",
         "type": "integer"
        },
        {
         "name": "Count",
         "rawType": "int64",
         "type": "integer"
        }
       ],
       "ref": "5ec4a8f4-90dd-4891-a818-98902e13e972",
       "rows": [
        [
         "0",
         "29"
        ]
       ],
       "shape": {
        "columns": 1,
        "rows": 1
       }
      },
      "text/html": [
       "<div>\n",
       "<style scoped>\n",
       "    .dataframe tbody tr th:only-of-type {\n",
       "        vertical-align: middle;\n",
       "    }\n",
       "\n",
       "    .dataframe tbody tr th {\n",
       "        vertical-align: top;\n",
       "    }\n",
       "\n",
       "    .dataframe thead th {\n",
       "        text-align: right;\n",
       "    }\n",
       "</style>\n",
       "<table border=\"1\" class=\"dataframe\">\n",
       "  <thead>\n",
       "    <tr style=\"text-align: right;\">\n",
       "      <th></th>\n",
       "      <th>Count</th>\n",
       "    </tr>\n",
       "  </thead>\n",
       "  <tbody>\n",
       "    <tr>\n",
       "      <th>0</th>\n",
       "      <td>29</td>\n",
       "    </tr>\n",
       "  </tbody>\n",
       "</table>\n",
       "</div>"
      ],
      "text/plain": [
       "   Count\n",
       "0     29"
      ]
     },
     "execution_count": 39,
     "metadata": {},
     "output_type": "execute_result"
    }
   ],
   "source": [
    "%%sql\n",
    "# Set the NULL values\n",
    "UPDATE Temperature\n",
    "SET it8 = NULL\n",
    "WHERE it8 = -99.9;"
   ]
  },
  {
   "cell_type": "code",
   "execution_count": 40,
   "id": "e0ec6580",
   "metadata": {},
   "outputs": [
    {
     "data": {
      "application/vnd.microsoft.datawrangler.viewer.v0+json": {
       "columns": [
        {
         "name": "index",
         "rawType": "int64",
         "type": "integer"
        },
        {
         "name": "Count",
         "rawType": "int64",
         "type": "integer"
        }
       ],
       "ref": "9c5b7b28-867c-4e79-8be6-f48a09e5edae",
       "rows": [
        [
         "0",
         "28"
        ]
       ],
       "shape": {
        "columns": 1,
        "rows": 1
       }
      },
      "text/html": [
       "<div>\n",
       "<style scoped>\n",
       "    .dataframe tbody tr th:only-of-type {\n",
       "        vertical-align: middle;\n",
       "    }\n",
       "\n",
       "    .dataframe tbody tr th {\n",
       "        vertical-align: top;\n",
       "    }\n",
       "\n",
       "    .dataframe thead th {\n",
       "        text-align: right;\n",
       "    }\n",
       "</style>\n",
       "<table border=\"1\" class=\"dataframe\">\n",
       "  <thead>\n",
       "    <tr style=\"text-align: right;\">\n",
       "      <th></th>\n",
       "      <th>Count</th>\n",
       "    </tr>\n",
       "  </thead>\n",
       "  <tbody>\n",
       "    <tr>\n",
       "      <th>0</th>\n",
       "      <td>28</td>\n",
       "    </tr>\n",
       "  </tbody>\n",
       "</table>\n",
       "</div>"
      ],
      "text/plain": [
       "   Count\n",
       "0     28"
      ]
     },
     "execution_count": 40,
     "metadata": {},
     "output_type": "execute_result"
    }
   ],
   "source": [
    "%%sql\n",
    "UPDATE Temperature\n",
    "SET it13 = NULL\n",
    "WHERE it13 = -99.9;"
   ]
  },
  {
   "cell_type": "code",
   "execution_count": 41,
   "id": "c8757e9d",
   "metadata": {},
   "outputs": [
    {
     "data": {
      "application/vnd.microsoft.datawrangler.viewer.v0+json": {
       "columns": [
        {
         "name": "index",
         "rawType": "int64",
         "type": "integer"
        },
        {
         "name": "Count",
         "rawType": "int64",
         "type": "integer"
        }
       ],
       "ref": "ff7e23cc-e1ea-43bc-8808-d26f49cd21ba",
       "rows": [
        [
         "0",
         "27"
        ]
       ],
       "shape": {
        "columns": 1,
        "rows": 1
       }
      },
      "text/html": [
       "<div>\n",
       "<style scoped>\n",
       "    .dataframe tbody tr th:only-of-type {\n",
       "        vertical-align: middle;\n",
       "    }\n",
       "\n",
       "    .dataframe tbody tr th {\n",
       "        vertical-align: top;\n",
       "    }\n",
       "\n",
       "    .dataframe thead th {\n",
       "        text-align: right;\n",
       "    }\n",
       "</style>\n",
       "<table border=\"1\" class=\"dataframe\">\n",
       "  <thead>\n",
       "    <tr style=\"text-align: right;\">\n",
       "      <th></th>\n",
       "      <th>Count</th>\n",
       "    </tr>\n",
       "  </thead>\n",
       "  <tbody>\n",
       "    <tr>\n",
       "      <th>0</th>\n",
       "      <td>27</td>\n",
       "    </tr>\n",
       "  </tbody>\n",
       "</table>\n",
       "</div>"
      ],
      "text/plain": [
       "   Count\n",
       "0     27"
      ]
     },
     "execution_count": 41,
     "metadata": {},
     "output_type": "execute_result"
    }
   ],
   "source": [
    "%%sql\n",
    "UPDATE Temperature\n",
    "SET it21 = NULL\n",
    "WHERE it21 = -99.9;"
   ]
  },
  {
   "cell_type": "code",
   "execution_count": 42,
   "id": "8d847496",
   "metadata": {},
   "outputs": [
    {
     "data": {
      "application/vnd.microsoft.datawrangler.viewer.v0+json": {
       "columns": [
        {
         "name": "index",
         "rawType": "int64",
         "type": "integer"
        },
        {
         "name": "Count",
         "rawType": "int64",
         "type": "integer"
        }
       ],
       "ref": "e29f527c-a222-4230-9ce4-bb5544975522",
       "rows": [
        [
         "0",
         "28"
        ]
       ],
       "shape": {
        "columns": 1,
        "rows": 1
       }
      },
      "text/html": [
       "<div>\n",
       "<style scoped>\n",
       "    .dataframe tbody tr th:only-of-type {\n",
       "        vertical-align: middle;\n",
       "    }\n",
       "\n",
       "    .dataframe tbody tr th {\n",
       "        vertical-align: top;\n",
       "    }\n",
       "\n",
       "    .dataframe thead th {\n",
       "        text-align: right;\n",
       "    }\n",
       "</style>\n",
       "<table border=\"1\" class=\"dataframe\">\n",
       "  <thead>\n",
       "    <tr style=\"text-align: right;\">\n",
       "      <th></th>\n",
       "      <th>Count</th>\n",
       "    </tr>\n",
       "  </thead>\n",
       "  <tbody>\n",
       "    <tr>\n",
       "      <th>0</th>\n",
       "      <td>28</td>\n",
       "    </tr>\n",
       "  </tbody>\n",
       "</table>\n",
       "</div>"
      ],
      "text/plain": [
       "   Count\n",
       "0     28"
      ]
     },
     "execution_count": 42,
     "metadata": {},
     "output_type": "execute_result"
    }
   ],
   "source": [
    "%%sql\n",
    "UPDATE Temperature\n",
    "SET ot8 = NULL\n",
    "WHERE ot8 = -99.9;"
   ]
  },
  {
   "cell_type": "code",
   "execution_count": 43,
   "id": "d853e01d",
   "metadata": {},
   "outputs": [
    {
     "data": {
      "application/vnd.microsoft.datawrangler.viewer.v0+json": {
       "columns": [
        {
         "name": "index",
         "rawType": "int64",
         "type": "integer"
        },
        {
         "name": "Count",
         "rawType": "int64",
         "type": "integer"
        }
       ],
       "ref": "6fe344b3-d610-4658-9acf-a7b52d162dd4",
       "rows": [
        [
         "0",
         "27"
        ]
       ],
       "shape": {
        "columns": 1,
        "rows": 1
       }
      },
      "text/html": [
       "<div>\n",
       "<style scoped>\n",
       "    .dataframe tbody tr th:only-of-type {\n",
       "        vertical-align: middle;\n",
       "    }\n",
       "\n",
       "    .dataframe tbody tr th {\n",
       "        vertical-align: top;\n",
       "    }\n",
       "\n",
       "    .dataframe thead th {\n",
       "        text-align: right;\n",
       "    }\n",
       "</style>\n",
       "<table border=\"1\" class=\"dataframe\">\n",
       "  <thead>\n",
       "    <tr style=\"text-align: right;\">\n",
       "      <th></th>\n",
       "      <th>Count</th>\n",
       "    </tr>\n",
       "  </thead>\n",
       "  <tbody>\n",
       "    <tr>\n",
       "      <th>0</th>\n",
       "      <td>27</td>\n",
       "    </tr>\n",
       "  </tbody>\n",
       "</table>\n",
       "</div>"
      ],
      "text/plain": [
       "   Count\n",
       "0     27"
      ]
     },
     "execution_count": 43,
     "metadata": {},
     "output_type": "execute_result"
    }
   ],
   "source": [
    "%%sql\n",
    "UPDATE Temperature\n",
    "SET ot13 = NULL\n",
    "WHERE ot13 = -99.9;"
   ]
  },
  {
   "cell_type": "code",
   "execution_count": 44,
   "id": "c91fbe98",
   "metadata": {},
   "outputs": [
    {
     "data": {
      "application/vnd.microsoft.datawrangler.viewer.v0+json": {
       "columns": [
        {
         "name": "index",
         "rawType": "int64",
         "type": "integer"
        },
        {
         "name": "Count",
         "rawType": "int64",
         "type": "integer"
        }
       ],
       "ref": "3f64d259-fd89-4a62-bf65-174c50e15224",
       "rows": [
        [
         "0",
         "27"
        ]
       ],
       "shape": {
        "columns": 1,
        "rows": 1
       }
      },
      "text/html": [
       "<div>\n",
       "<style scoped>\n",
       "    .dataframe tbody tr th:only-of-type {\n",
       "        vertical-align: middle;\n",
       "    }\n",
       "\n",
       "    .dataframe tbody tr th {\n",
       "        vertical-align: top;\n",
       "    }\n",
       "\n",
       "    .dataframe thead th {\n",
       "        text-align: right;\n",
       "    }\n",
       "</style>\n",
       "<table border=\"1\" class=\"dataframe\">\n",
       "  <thead>\n",
       "    <tr style=\"text-align: right;\">\n",
       "      <th></th>\n",
       "      <th>Count</th>\n",
       "    </tr>\n",
       "  </thead>\n",
       "  <tbody>\n",
       "    <tr>\n",
       "      <th>0</th>\n",
       "      <td>27</td>\n",
       "    </tr>\n",
       "  </tbody>\n",
       "</table>\n",
       "</div>"
      ],
      "text/plain": [
       "   Count\n",
       "0     27"
      ]
     },
     "execution_count": 44,
     "metadata": {},
     "output_type": "execute_result"
    }
   ],
   "source": [
    "%%sql\n",
    "UPDATE Temperature\n",
    "SET ot21 = NULL\n",
    "WHERE ot21 = -99.9;"
   ]
  },
  {
   "cell_type": "code",
   "execution_count": null,
   "id": "c5687df9",
   "metadata": {},
   "outputs": [
    {
     "data": {
      "application/vnd.microsoft.datawrangler.viewer.v0+json": {
       "columns": [
        {
         "name": "index",
         "rawType": "int64",
         "type": "integer"
        },
        {
         "name": "Count",
         "rawType": "int64",
         "type": "integer"
        }
       ],
       "ref": "de16dc4c-36d0-47a1-997e-f7414e09fbbc",
       "rows": [
        [
         "0",
         "1515"
        ]
       ],
       "shape": {
        "columns": 1,
        "rows": 1
       }
      },
      "text/html": [
       "<div>\n",
       "<style scoped>\n",
       "    .dataframe tbody tr th:only-of-type {\n",
       "        vertical-align: middle;\n",
       "    }\n",
       "\n",
       "    .dataframe tbody tr th {\n",
       "        vertical-align: top;\n",
       "    }\n",
       "\n",
       "    .dataframe thead th {\n",
       "        text-align: right;\n",
       "    }\n",
       "</style>\n",
       "<table border=\"1\" class=\"dataframe\">\n",
       "  <thead>\n",
       "    <tr style=\"text-align: right;\">\n",
       "      <th></th>\n",
       "      <th>Count</th>\n",
       "    </tr>\n",
       "  </thead>\n",
       "  <tbody>\n",
       "    <tr>\n",
       "      <th>0</th>\n",
       "      <td>1515</td>\n",
       "    </tr>\n",
       "  </tbody>\n",
       "</table>\n",
       "</div>"
      ],
      "text/plain": [
       "   Count\n",
       "0   1515"
      ]
     },
     "execution_count": 46,
     "metadata": {},
     "output_type": "execute_result"
    }
   ],
   "source": [
    "%%sql\n",
    "# Create the Wigglesworth table by joining Temperature and Pressure\n",
    "DROP TABLE IF EXISTS Wigglesworth;\n",
    "CREATE TABLE Wigglesworth AS\n",
    "SELECT * FROM Temperature\n",
    "FULL JOIN Pressure\n",
    "USING (date);"
   ]
  },
  {
   "cell_type": "code",
   "execution_count": null,
   "id": "26b86e36",
   "metadata": {},
   "outputs": [
    {
     "data": {
      "application/vnd.microsoft.datawrangler.viewer.v0+json": {
       "columns": [
        {
         "name": "index",
         "rawType": "int64",
         "type": "integer"
        },
        {
         "name": "Count",
         "rawType": "int64",
         "type": "integer"
        }
       ],
       "ref": "e13b694b-156e-4dc5-9dbe-089e2a4def6c",
       "rows": [
        [
         "0",
         "4383"
        ]
       ],
       "shape": {
        "columns": 1,
        "rows": 1
       }
      },
      "text/html": [
       "<div>\n",
       "<style scoped>\n",
       "    .dataframe tbody tr th:only-of-type {\n",
       "        vertical-align: middle;\n",
       "    }\n",
       "\n",
       "    .dataframe tbody tr th {\n",
       "        vertical-align: top;\n",
       "    }\n",
       "\n",
       "    .dataframe thead th {\n",
       "        text-align: right;\n",
       "    }\n",
       "</style>\n",
       "<table border=\"1\" class=\"dataframe\">\n",
       "  <thead>\n",
       "    <tr style=\"text-align: right;\">\n",
       "      <th></th>\n",
       "      <th>Count</th>\n",
       "    </tr>\n",
       "  </thead>\n",
       "  <tbody>\n",
       "    <tr>\n",
       "      <th>0</th>\n",
       "      <td>4383</td>\n",
       "    </tr>\n",
       "  </tbody>\n",
       "</table>\n",
       "</div>"
      ],
      "text/plain": [
       "   Count\n",
       "0   4383"
      ]
     },
     "execution_count": 49,
     "metadata": {},
     "output_type": "execute_result"
    }
   ],
   "source": [
    "%%sql\n",
    "# Combine the columns at different times in single columns with timestamp\n",
    "DROP TABLE IF EXISTS Wigglesworth_Long;\n",
    "CREATE TABLE Wigglesworth_Long AS \n",
    "SELECT * FROM\n",
    "    (\n",
    "    SELECT\n",
    "        date,\n",
    "        '08:00:00' AS time_of_day,\n",
    "        (Date + INTERVAL '8 hours') AT TIME ZONE 'America/New_York' AS Timestamp,\n",
    "        it8 AS indoorTemperature,\n",
    "        ot8 AS outdoorTemperature,\n",
    "        p0 AS pressure\n",
    "    FROM Wigglesworth\n",
    "\n",
    "    UNION ALL\n",
    "\n",
    "    SELECT\n",
    "        date,\n",
    "        '13:00:00' AS time_of_day,\n",
    "        (Date + INTERVAL '13 hours') AT TIME ZONE 'America/New_York' AS Timestamp,\n",
    "        it13 AS indoorTemperature,\n",
    "        ot13 AS outdoorTemperature,\n",
    "        p1 AS pressure\n",
    "    FROM Wigglesworth\n",
    "\n",
    "    UNION ALL\n",
    "\n",
    "    -- SUNSET\n",
    "    SELECT\n",
    "        date,\n",
    "        '21:00:00' AS time_of_day, \n",
    "        (Date + INTERVAL '21 hours') AT TIME ZONE 'America/New_York' AS Timestamp,\n",
    "        it21 AS indoorTemperature,\n",
    "        ot21 AS outdoorTemperature,\n",
    "        p2 AS pressure\n",
    "    FROM Wigglesworth\n",
    "    )\n",
    "    WHERE Date IS NOT NULL;"
   ]
  },
  {
   "cell_type": "code",
   "execution_count": 50,
   "id": "9b86752b",
   "metadata": {},
   "outputs": [
    {
     "data": {
      "application/vnd.microsoft.datawrangler.viewer.v0+json": {
       "columns": [
        {
         "name": "index",
         "rawType": "int64",
         "type": "integer"
        },
        {
         "name": "column_name",
         "rawType": "object",
         "type": "string"
        },
        {
         "name": "column_type",
         "rawType": "object",
         "type": "string"
        },
        {
         "name": "min",
         "rawType": "object",
         "type": "string"
        },
        {
         "name": "max",
         "rawType": "object",
         "type": "string"
        },
        {
         "name": "approx_unique",
         "rawType": "int64",
         "type": "integer"
        },
        {
         "name": "avg",
         "rawType": "object",
         "type": "unknown"
        },
        {
         "name": "std",
         "rawType": "object",
         "type": "unknown"
        },
        {
         "name": "q25",
         "rawType": "object",
         "type": "unknown"
        },
        {
         "name": "q50",
         "rawType": "object",
         "type": "unknown"
        },
        {
         "name": "q75",
         "rawType": "object",
         "type": "unknown"
        },
        {
         "name": "count",
         "rawType": "int64",
         "type": "integer"
        },
        {
         "name": "null_percentage",
         "rawType": "float64",
         "type": "float"
        }
       ],
       "ref": "67a3ea16-cfa4-4daf-a68f-9ae32219c193",
       "rows": [
        [
         "0",
         "date",
         "DATE",
         "1786-01-01",
         "1789-12-31",
         "1574",
         null,
         null,
         "1787-01-01",
         "1788-01-01",
         "1788-12-31",
         "4383",
         "0.0"
        ],
        [
         "1",
         "time_of_day",
         "VARCHAR",
         "08:00:00",
         "21:00:00",
         "3",
         null,
         null,
         null,
         null,
         null,
         "4383",
         "0.0"
        ],
        [
         "2",
         "Timestamp",
         "TIMESTAMP WITH TIME ZONE",
         "1786-01-01 13:13:32+00:17",
         "1790-01-01 02:13:32+00:17",
         "4180",
         null,
         null,
         "1787-01-01 20:30:22.922941+00:17",
         "1788-01-02 01:54:15.636364+00:17",
         "1788-12-31 22:01:01.999999+00:17",
         "4383",
         "0.0"
        ],
        [
         "3",
         "indoorTemperature",
         "DOUBLE",
         "-17.22",
         "35.83",
         "247",
         "10.034449771689525",
         "9.920908330367464",
         "2.2448307692307696",
         "10.346439628482972",
         "18.83393006993007",
         "4383",
         "0.07"
        ],
        [
         "4",
         "outdoorTemperature",
         "DOUBLE",
         "-25.56",
         "35.0",
         "470",
         "8.766485623003193",
         "10.91282016204802",
         "0.6620761524948963",
         "8.856606833910032",
         "17.449978012710464",
         "4383",
         "0.02"
        ],
        [
         "5",
         "pressure",
         "DOUBLE",
         "968.6",
         "1030.7",
         "438",
         "1005.7615788272892",
         "8.389815959727084",
         "1000.5467634893483",
         "1005.9617142472696",
         "1011.5336801426873",
         "4383",
         "0.0"
        ]
       ],
       "shape": {
        "columns": 12,
        "rows": 6
       }
      },
      "text/html": [
       "<div>\n",
       "<style scoped>\n",
       "    .dataframe tbody tr th:only-of-type {\n",
       "        vertical-align: middle;\n",
       "    }\n",
       "\n",
       "    .dataframe tbody tr th {\n",
       "        vertical-align: top;\n",
       "    }\n",
       "\n",
       "    .dataframe thead th {\n",
       "        text-align: right;\n",
       "    }\n",
       "</style>\n",
       "<table border=\"1\" class=\"dataframe\">\n",
       "  <thead>\n",
       "    <tr style=\"text-align: right;\">\n",
       "      <th></th>\n",
       "      <th>column_name</th>\n",
       "      <th>column_type</th>\n",
       "      <th>min</th>\n",
       "      <th>max</th>\n",
       "      <th>approx_unique</th>\n",
       "      <th>avg</th>\n",
       "      <th>std</th>\n",
       "      <th>q25</th>\n",
       "      <th>q50</th>\n",
       "      <th>q75</th>\n",
       "      <th>count</th>\n",
       "      <th>null_percentage</th>\n",
       "    </tr>\n",
       "  </thead>\n",
       "  <tbody>\n",
       "    <tr>\n",
       "      <th>0</th>\n",
       "      <td>date</td>\n",
       "      <td>DATE</td>\n",
       "      <td>1786-01-01</td>\n",
       "      <td>1789-12-31</td>\n",
       "      <td>1574</td>\n",
       "      <td>None</td>\n",
       "      <td>None</td>\n",
       "      <td>1787-01-01</td>\n",
       "      <td>1788-01-01</td>\n",
       "      <td>1788-12-31</td>\n",
       "      <td>4383</td>\n",
       "      <td>0.00</td>\n",
       "    </tr>\n",
       "    <tr>\n",
       "      <th>1</th>\n",
       "      <td>time_of_day</td>\n",
       "      <td>VARCHAR</td>\n",
       "      <td>08:00:00</td>\n",
       "      <td>21:00:00</td>\n",
       "      <td>3</td>\n",
       "      <td>None</td>\n",
       "      <td>None</td>\n",
       "      <td>None</td>\n",
       "      <td>None</td>\n",
       "      <td>None</td>\n",
       "      <td>4383</td>\n",
       "      <td>0.00</td>\n",
       "    </tr>\n",
       "    <tr>\n",
       "      <th>2</th>\n",
       "      <td>Timestamp</td>\n",
       "      <td>TIMESTAMP WITH TIME ZONE</td>\n",
       "      <td>1786-01-01 13:13:32+00:17</td>\n",
       "      <td>1790-01-01 02:13:32+00:17</td>\n",
       "      <td>4180</td>\n",
       "      <td>None</td>\n",
       "      <td>None</td>\n",
       "      <td>1787-01-01 20:30:22.922941+00:17</td>\n",
       "      <td>1788-01-02 01:54:15.636364+00:17</td>\n",
       "      <td>1788-12-31 22:01:01.999999+00:17</td>\n",
       "      <td>4383</td>\n",
       "      <td>0.00</td>\n",
       "    </tr>\n",
       "    <tr>\n",
       "      <th>3</th>\n",
       "      <td>indoorTemperature</td>\n",
       "      <td>DOUBLE</td>\n",
       "      <td>-17.22</td>\n",
       "      <td>35.83</td>\n",
       "      <td>247</td>\n",
       "      <td>10.034449771689525</td>\n",
       "      <td>9.920908330367464</td>\n",
       "      <td>2.2448307692307696</td>\n",
       "      <td>10.346439628482972</td>\n",
       "      <td>18.83393006993007</td>\n",
       "      <td>4383</td>\n",
       "      <td>0.07</td>\n",
       "    </tr>\n",
       "    <tr>\n",
       "      <th>4</th>\n",
       "      <td>outdoorTemperature</td>\n",
       "      <td>DOUBLE</td>\n",
       "      <td>-25.56</td>\n",
       "      <td>35.0</td>\n",
       "      <td>470</td>\n",
       "      <td>8.766485623003193</td>\n",
       "      <td>10.91282016204802</td>\n",
       "      <td>0.6620761524948963</td>\n",
       "      <td>8.856606833910032</td>\n",
       "      <td>17.449978012710464</td>\n",
       "      <td>4383</td>\n",
       "      <td>0.02</td>\n",
       "    </tr>\n",
       "    <tr>\n",
       "      <th>5</th>\n",
       "      <td>pressure</td>\n",
       "      <td>DOUBLE</td>\n",
       "      <td>968.6</td>\n",
       "      <td>1030.7</td>\n",
       "      <td>438</td>\n",
       "      <td>1005.7615788272892</td>\n",
       "      <td>8.389815959727084</td>\n",
       "      <td>1000.5467634893483</td>\n",
       "      <td>1005.9617142472696</td>\n",
       "      <td>1011.5336801426873</td>\n",
       "      <td>4383</td>\n",
       "      <td>0.00</td>\n",
       "    </tr>\n",
       "  </tbody>\n",
       "</table>\n",
       "</div>"
      ],
      "text/plain": [
       "          column_name               column_type                        min  \\\n",
       "0                date                      DATE                 1786-01-01   \n",
       "1         time_of_day                   VARCHAR                   08:00:00   \n",
       "2           Timestamp  TIMESTAMP WITH TIME ZONE  1786-01-01 13:13:32+00:17   \n",
       "3   indoorTemperature                    DOUBLE                     -17.22   \n",
       "4  outdoorTemperature                    DOUBLE                     -25.56   \n",
       "5            pressure                    DOUBLE                      968.6   \n",
       "\n",
       "                         max  approx_unique                 avg  \\\n",
       "0                 1789-12-31           1574                None   \n",
       "1                   21:00:00              3                None   \n",
       "2  1790-01-01 02:13:32+00:17           4180                None   \n",
       "3                      35.83            247  10.034449771689525   \n",
       "4                       35.0            470   8.766485623003193   \n",
       "5                     1030.7            438  1005.7615788272892   \n",
       "\n",
       "                 std                               q25  \\\n",
       "0               None                        1787-01-01   \n",
       "1               None                              None   \n",
       "2               None  1787-01-01 20:30:22.922941+00:17   \n",
       "3  9.920908330367464                2.2448307692307696   \n",
       "4  10.91282016204802                0.6620761524948963   \n",
       "5  8.389815959727084                1000.5467634893483   \n",
       "\n",
       "                                q50                               q75  count  \\\n",
       "0                        1788-01-01                        1788-12-31   4383   \n",
       "1                              None                              None   4383   \n",
       "2  1788-01-02 01:54:15.636364+00:17  1788-12-31 22:01:01.999999+00:17   4383   \n",
       "3                10.346439628482972                 18.83393006993007   4383   \n",
       "4                 8.856606833910032                17.449978012710464   4383   \n",
       "5                1005.9617142472696                1011.5336801426873   4383   \n",
       "\n",
       "   null_percentage  \n",
       "0             0.00  \n",
       "1             0.00  \n",
       "2             0.00  \n",
       "3             0.07  \n",
       "4             0.02  \n",
       "5             0.00  "
      ]
     },
     "execution_count": 50,
     "metadata": {},
     "output_type": "execute_result"
    }
   ],
   "source": [
    "%%sql\n",
    "FROM (SUMMARIZE Wigglesworth_Long)"
   ]
  },
  {
   "cell_type": "code",
   "execution_count": 51,
   "id": "cdc18cb6",
   "metadata": {},
   "outputs": [
    {
     "data": {
      "application/vnd.microsoft.datawrangler.viewer.v0+json": {
       "columns": [
        {
         "name": "index",
         "rawType": "int64",
         "type": "integer"
        },
        {
         "name": "Count",
         "rawType": "int64",
         "type": "integer"
        }
       ],
       "ref": "ed82c80a-3537-47e4-85d0-0c947aea592f",
       "rows": [
        [
         "0",
         "4383"
        ]
       ],
       "shape": {
        "columns": 1,
        "rows": 1
       }
      },
      "text/html": [
       "<div>\n",
       "<style scoped>\n",
       "    .dataframe tbody tr th:only-of-type {\n",
       "        vertical-align: middle;\n",
       "    }\n",
       "\n",
       "    .dataframe tbody tr th {\n",
       "        vertical-align: top;\n",
       "    }\n",
       "\n",
       "    .dataframe thead th {\n",
       "        text-align: right;\n",
       "    }\n",
       "</style>\n",
       "<table border=\"1\" class=\"dataframe\">\n",
       "  <thead>\n",
       "    <tr style=\"text-align: right;\">\n",
       "      <th></th>\n",
       "      <th>Count</th>\n",
       "    </tr>\n",
       "  </thead>\n",
       "  <tbody>\n",
       "    <tr>\n",
       "      <th>0</th>\n",
       "      <td>4383</td>\n",
       "    </tr>\n",
       "  </tbody>\n",
       "</table>\n",
       "</div>"
      ],
      "text/plain": [
       "   Count\n",
       "0   4383"
      ]
     },
     "execution_count": 51,
     "metadata": {},
     "output_type": "execute_result"
    }
   ],
   "source": [
    "%%sql\n",
    "COPY\n",
    "    (SELECT * FROM Wigglesworth_Long)\n",
    "    TO 'dbs/wigglesworth.parquet'\n",
    "    (FORMAT parquet);"
   ]
  },
  {
   "cell_type": "code",
   "execution_count": 52,
   "id": "527695a6",
   "metadata": {},
   "outputs": [
    {
     "name": "stdout",
     "output_type": "stream",
     "text": [
      "Script executed in 1.34 seconds.\n"
     ]
    }
   ],
   "source": [
    "end_time = time.time()\n",
    "print(f\"Script executed in {end_time - start_time:.2f} seconds.\")"
   ]
  }
 ],
 "metadata": {
  "kernelspec": {
   "display_name": ".venv",
   "language": "python",
   "name": "python3"
  },
  "language_info": {
   "codemirror_mode": {
    "name": "ipython",
    "version": 3
   },
   "file_extension": ".py",
   "mimetype": "text/x-python",
   "name": "python",
   "nbconvert_exporter": "python",
   "pygments_lexer": "ipython3",
   "version": "3.10.12"
  }
 },
 "nbformat": 4,
 "nbformat_minor": 5
}
