{
 "cells": [
  {
   "cell_type": "code",
   "execution_count": 1,
   "id": "275d2b9f",
   "metadata": {},
   "outputs": [],
   "source": [
    "import duckdb\n",
    "import pandas as pd \n",
    "import os\n",
    "from tqdm.auto import tqdm"
   ]
  },
  {
   "cell_type": "code",
   "execution_count": 2,
   "id": "9f3d3e0c",
   "metadata": {},
   "outputs": [],
   "source": [
    "%load_ext sql\n",
    "conn = duckdb.connect('database.db')\n",
    "%sql conn --alias duckdb\n",
    "\n",
    "%config SqlMagic.autopandas = True\n",
    "%config SqlMagic.feedback = False\n",
    "%config SqlMagic.displaycon = False"
   ]
  },
  {
   "cell_type": "code",
   "execution_count": 3,
   "id": "20f2a72e",
   "metadata": {},
   "outputs": [],
   "source": [
    "SEF = 1.0\n",
    "ID = \"Oranjestad_Aruba\"\n",
    "Name = \"Oranjestad Aruba\"\n",
    "Lat = 12.52 #?\n",
    "Lon = -70.04 #?\n",
    "Alt = 5 #?\n",
    "Source = \"KNMI_Caribisch\" #?\n",
    "Link = \"\" #?\n",
    "Vbl = \"rr\"\n",
    "Stat = \"sum\"\n",
    "Units = \"mm\"\n",
    "Meta = \"Data policy=open\""
   ]
  },
  {
   "cell_type": "code",
   "execution_count": 4,
   "id": "cb406b85",
   "metadata": {},
   "outputs": [],
   "source": [
    "df = pd.DataFrame()"
   ]
  },
  {
   "cell_type": "code",
   "execution_count": 12,
   "id": "fc2e7130",
   "metadata": {},
   "outputs": [],
   "source": [
    "%%sql\n",
    "df << SELECT timestamp, Precipitation, qPrecipitation FROM aruba.parquet"
   ]
  },
  {
   "cell_type": "code",
   "execution_count": 59,
   "id": "fe81917a",
   "metadata": {},
   "outputs": [],
   "source": [
    "# Get timestamp as string:\n",
    "df['timestamp'] = df['timestamp'].dt.tz_convert('UTC')\n",
    "df_prep = df[['Year', 'Month', 'Day', 'Hour', 'Minute', 'Precipitation', 'qPrecipitation']].copy()\n",
    "df_prep['Year'] = df['timestamp'].dt.year.astype(str)\n",
    "df_prep['Month'] = df['timestamp'].dt.month.astype(str).str.zfill(2)  # zero-padded\n",
    "df_prep['Day'] = df['timestamp'].dt.day.astype(str).str.zfill(2)  # zero-padded\n",
    "df_prep['Hour'] = df['timestamp'].dt.hour.astype(str).str.zfill(2)  # zero-padded\n",
    "df_prep['Minute'] = df['timestamp'].dt.minute.astype(str).str.zfill(2)  # zero-padded\n",
    "df_prep['Period'] = 'day'\n",
    "\n",
    "# Add decimal:\n",
    "df_prep['Precipitation'] = df['Precipitation']/10\n",
    "df_prep['Meta'] = \"qc=\" + df_prep['qPrecipitation'].astype(str)\n",
    "\n",
    "data_pd = df_prep[['Year', 'Month', 'Day', 'Hour', 'Minute', 'Period', 'Precipitation', 'Meta']].copy()"
   ]
  },
  {
   "cell_type": "code",
   "execution_count": 60,
   "id": "2702b624",
   "metadata": {},
   "outputs": [],
   "source": [
    "SEF = 1.0\n",
    "ID = \"Oranjestad_Aruba\"\n",
    "Name = \"Oranjestad Aruba\"\n",
    "Lat = 12.52 #?\n",
    "Lon = -70.04 #?\n",
    "Alt = 5 #?\n",
    "Source = \"KNMI_Caribisch\" #?\n",
    "Link = \"\" #?\n",
    "Vbl = \"rr\"\n",
    "Stat = \"sum\"\n",
    "Units = \"mm\"\n",
    "Meta = \"Data policy=open\"\n",
    "\n",
    "sef_dict = {\"SEF\": SEF, \"ID\": ID, \"Name\": Name, \"Lat\": Lat, \"Lon\": Lon, \"Alt\": Alt, \"Source\": Source, \n",
    "            \"Link\": Link, \"Vbl\": Vbl, \"Stat\": Stat, \"Units\": Units, \"Meta\": Meta}"
   ]
  },
  {
   "cell_type": "markdown",
   "id": "cc9c0fc6",
   "metadata": {},
   "source": [
    "Year\tMonth\tDay\tHour\tMinute\tPeriod\tValue\tMeta\n",
    "1886\t3\t    18\t12\t    17\t    0\t    1005.14\torig=758.2mm|atb=24.8C|orig.time=8am"
   ]
  },
  {
   "cell_type": "code",
   "execution_count": 61,
   "id": "ac39f0cf",
   "metadata": {},
   "outputs": [],
   "source": [
    "import copy\n",
    "import codecs\n",
    "\n",
    "def write_file(header: dict, data: pd.DataFrame, file_name: str):\n",
    "    \"\"\"Write the specified set of obs to a file in SEF format.\n",
    "\n",
    "    Args:\n",
    "        obs (:obj:`dict`): Dictionary\n",
    "        file_name (:obj:`str`): File (or 'open'able object)\n",
    "\n",
    "    Returns:\n",
    "        :obj:`dict`: Data as key:value pairs.\n",
    "\n",
    "    Raises:\n",
    "        ValueError: obs not a SEF structure\n",
    "\n",
    "    |\n",
    "    \"\"\"\n",
    "    # Operate on local copy\n",
    "    obs = copy.deepcopy(header)\n",
    "    f = codecs.open(file_name, 'w', encoding='utf-8')\n",
    "    # Meta might need packing\n",
    "    # obs['Meta'] = _pack(obs['Meta'])\n",
    "    # Header first\n",
    "    for header in ('SEF', 'ID', 'Name', 'Source', 'Lat', 'Lon', 'Alt', 'Link', 'Vbl',\n",
    "                   'Stat', 'Units', 'Meta'):\n",
    "        if obs[header] is not None and obs[header] == obs[header]:\n",
    "            f.write(\"%s\\t%s\\n\" % (header, obs[header]))\n",
    "        else:\n",
    "            f.write(\"%s\\t\\n\" % header)\n",
    "\n",
    "    # Add the data table\n",
    "    # obs['Data']['Meta'] = obs['Data']['Meta'].map(_pack, na_action='ignore')\n",
    "    # print(obs['Data'])\n",
    "    data.to_csv(f, sep='\\t', header=True, index=False)\n",
    "\n",
    "    # for i in range(1, len(obs['Data'])):\n",
    "    #     obs['Data'][i].to_csv(f, sep='\\t', header=False, index=False,)"
   ]
  },
  {
   "cell_type": "code",
   "execution_count": 62,
   "id": "42b8d716",
   "metadata": {},
   "outputs": [],
   "source": [
    "write_file(sef_dict, data_pd, 'Oranjestad_Precip.tsv')"
   ]
  }
 ],
 "metadata": {
  "kernelspec": {
   "display_name": ".venv",
   "language": "python",
   "name": "python3"
  },
  "language_info": {
   "codemirror_mode": {
    "name": "ipython",
    "version": 3
   },
   "file_extension": ".py",
   "mimetype": "text/x-python",
   "name": "python",
   "nbconvert_exporter": "python",
   "pygments_lexer": "ipython3",
   "version": "3.10.12"
  }
 },
 "nbformat": 4,
 "nbformat_minor": 5
}
